{
 "cells": [
  {
   "cell_type": "code",
   "execution_count": null,
   "id": "fd418828-660a-444c-8686-29b2fddbe560",
   "metadata": {
    "tags": []
   },
   "outputs": [],
   "source": [
    "!pip install -r ./requirements.txt"
   ]
  },
  {
   "cell_type": "code",
   "execution_count": null,
   "id": "7ad6fadf-74e3-492f-b613-d674ad53e50f",
   "metadata": {
    "tags": []
   },
   "outputs": [],
   "source": [
    "import numpy as np\n",
    "import scipy as sc\n",
    "import scipy.sparse as sp\n",
    "import random\n",
    "from collections import defaultdict\n",
    "from pyspark.sql import SparkSession\n",
    "\n",
    "spark = (SparkSession \n",
    "         .builder\n",
    "         .appName(\"Cloud computing ENSAE project\")\n",
    "         .master(\"local[5]\")\n",
    "         .getOrCreate()\n",
    "        )\n",
    "sc = spark.sparkContext"
   ]
  },
  {
   "cell_type": "code",
   "execution_count": null,
   "id": "764d5e3b-6f0a-43cc-9dcf-59df803f917a",
   "metadata": {
    "tags": []
   },
   "outputs": [],
   "source": [
    "def mult(x):\n",
    "    y = np.array([2])\n",
    "    return x*y\n",
    " \n",
    "x = np.arange(10000)\n",
    "distData = sc.parallelize(x)\n",
    " \n",
    "results = distData.map(mult).collect()\n",
    " "
   ]
  },
  {
   "cell_type": "code",
   "execution_count": null,
   "id": "c2a0c33e-f5d2-44b1-8c6e-453ef91fde22",
   "metadata": {
    "tags": []
   },
   "outputs": [],
   "source": [
    "spark.stop()"
   ]
  },
  {
   "cell_type": "code",
   "execution_count": null,
   "id": "cbe6c5a4-ddbb-47b0-b80a-87c1f3110081",
   "metadata": {
    "tags": []
   },
   "outputs": [],
   "source": [
    "def generate_sparse_matrix_dict_repr(m,n,num_nonzero):\n",
    "    dict_repr=dict()\n",
    "    \n",
    "    i,j = np.random.choice(m, num_nonzero, replace=True) , np.random.choice(n, num_nonzero, replace=True)\n",
    "    for x,y in zip(i,j):\n",
    "        dict_repr[(x,y)]=1\n",
    "    return dict_repr"
   ]
  },
  {
   "cell_type": "code",
   "execution_count": null,
   "id": "008c662e-45db-48bd-b06d-97039791e817",
   "metadata": {
    "tags": []
   },
   "outputs": [],
   "source": [
    "def dot_product_with_dict_repr(dict_repr,m,n):\n",
    "    multiplied_dict_repr=dict()\n",
    "    for i in range(n):\n",
    "        dict_col_i={x:v for (x,y),v in dict_repr.items() if y==i}\n",
    "        dict_col_i=defaultdict(int,dict_col_i)\n",
    "        if dict_col_i:\n",
    "            for j in range(m):\n",
    "                result=0\n",
    "                dict_col_j={x:v for (x,y),v in dict_repr.items() if y==j and x in dict_col_i.keys()}\n",
    "                dict_col_j=defaultdict(int,dict_col_j)\n",
    "                if dict_col_j:\n",
    "                    for x,v in dict_col_i.items():\n",
    "                        result+= v*dict_col_j[x]\n",
    "                    if result!=0:\n",
    "                        multiplied_dict_repr[(i,j)]=result\n",
    "    return multiplied_dict_repr"
   ]
  },
  {
   "cell_type": "code",
   "execution_count": null,
   "id": "f5915bc3-2f63-4981-9ae1-0d545da6cc6a",
   "metadata": {
    "tags": []
   },
   "outputs": [],
   "source": [
    "a=generate_sparse_matrix_dict_repr(300,40,520)"
   ]
  },
  {
   "cell_type": "code",
   "execution_count": null,
   "id": "79e60639-4123-4563-8055-9920ac093630",
   "metadata": {
    "tags": []
   },
   "outputs": [],
   "source": [
    "def dict_repr_to_sp_csc(dict_rep,m,n):\n",
    "    row = np.array([])\n",
    "    col = np.array([])\n",
    "    data = np.array([])\n",
    "\n",
    "    for (x,y),v in dict_rep.items():\n",
    "        row=np.append(row,x)\n",
    "        col=np.append(col,y)\n",
    "        data=np.append(data,v)\n",
    "    return sp.csc_matrix((data, (row, col)), shape=(m, n))"
   ]
  },
  {
   "cell_type": "code",
   "execution_count": null,
   "id": "f7fa6630-bf63-4bb9-905f-41b38edf2182",
   "metadata": {
    "tags": []
   },
   "outputs": [],
   "source": [
    "dict_repr_to_sp_csc(dot_product_with_dict_repr(a,300,40),40,40).toarray()"
   ]
  },
  {
   "cell_type": "code",
   "execution_count": null,
   "id": "ef39d7d1-474f-4885-b70c-623ff9e2336d",
   "metadata": {
    "tags": []
   },
   "outputs": [],
   "source": [
    "sparse_matrix=dict_repr_to_sp_csc(a,300,40)"
   ]
  },
  {
   "cell_type": "code",
   "execution_count": null,
   "id": "fc9ffcaa-bb7e-4daf-8079-222beca59917",
   "metadata": {
    "tags": []
   },
   "outputs": [],
   "source": [
    "sparse_matrix.T@sparse_matrix.toarray()"
   ]
  }
 ],
 "metadata": {
  "kernelspec": {
   "display_name": "Python 3 (ipykernel)",
   "language": "python",
   "name": "python3"
  },
  "language_info": {
   "codemirror_mode": {
    "name": "ipython",
    "version": 3
   },
   "file_extension": ".py",
   "mimetype": "text/x-python",
   "name": "python",
   "nbconvert_exporter": "python",
   "pygments_lexer": "ipython3",
   "version": "3.10.9"
  }
 },
 "nbformat": 4,
 "nbformat_minor": 5
}
