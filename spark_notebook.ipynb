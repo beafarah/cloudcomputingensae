{
 "cells": [
  {
   "cell_type": "code",
   "execution_count": null,
   "id": "fd418828-660a-444c-8686-29b2fddbe560",
   "metadata": {
    "tags": []
   },
   "outputs": [],
   "source": [
    "!pip install -r ./requirements.txt"
   ]
  },
  {
   "cell_type": "code",
   "execution_count": null,
   "id": "7ad6fadf-74e3-492f-b613-d674ad53e50f",
   "metadata": {
    "tags": []
   },
   "outputs": [],
   "source": [
    "import numpy as np\n",
    "from pyspark.sql import SparkSession\n",
    "\n",
    "spark = (SparkSession \n",
    "         .builder\n",
    "         .appName(\"Cloud computing ENSAE project\")\n",
    "         .master(\"local[5]\")\n",
    "         .getOrCreate()\n",
    "        )\n",
    "sc = spark.sparkContext"
   ]
  },
  {
   "cell_type": "code",
   "execution_count": null,
   "id": "764d5e3b-6f0a-43cc-9dcf-59df803f917a",
   "metadata": {
    "tags": []
   },
   "outputs": [],
   "source": [
    "def mult(x):\n",
    "    y = np.array([2])\n",
    "    return x*y\n",
    " \n",
    "x = np.arange(10000)\n",
    "distData = sc.parallelize(x)\n",
    " \n",
    "results = distData.map(mult).collect()\n",
    " "
   ]
  },
  {
   "cell_type": "code",
   "execution_count": null,
   "id": "e88a04c6-2737-41f3-8ed1-56f0c16e905e",
   "metadata": {
    "tags": []
   },
   "outputs": [],
   "source": [
    "results"
   ]
  },
  {
   "cell_type": "code",
   "execution_count": null,
   "id": "c2a0c33e-f5d2-44b1-8c6e-453ef91fde22",
   "metadata": {
    "tags": []
   },
   "outputs": [],
   "source": [
    "spark.stop()"
   ]
  }
 ],
 "metadata": {
  "kernelspec": {
   "display_name": "Python 3 (ipykernel)",
   "language": "python",
   "name": "python3"
  },
  "language_info": {
   "codemirror_mode": {
    "name": "ipython",
    "version": 3
   },
   "file_extension": ".py",
   "mimetype": "text/x-python",
   "name": "python",
   "nbconvert_exporter": "python",
   "pygments_lexer": "ipython3",
   "version": "3.10.9"
  }
 },
 "nbformat": 4,
 "nbformat_minor": 5
}
