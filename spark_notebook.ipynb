{
 "cells": [
  {
   "cell_type": "code",
   "execution_count": null,
   "id": "fd418828-660a-444c-8686-29b2fddbe560",
   "metadata": {
    "tags": []
   },
   "outputs": [],
   "source": [
    "!pip install -r ./requirements.txt"
   ]
  },
  {
   "cell_type": "code",
   "execution_count": null,
   "id": "7ad6fadf-74e3-492f-b613-d674ad53e50f",
   "metadata": {
    "tags": []
   },
   "outputs": [],
   "source": [
    "import numpy as np\n",
    "import scipy as sc\n",
    "import scipy.sparse as sp\n",
    "import random\n",
    "from collections import defaultdict\n",
    "from pyspark.sql import SparkSession\n",
    "from pyspark.mllib.linalg.distributed import MatrixEntry , CoordinateMatrix\n",
    "\n",
    "spark = (SparkSession \n",
    "         .builder\n",
    "         .appName(\"Cloud computing ENSAE project\")\n",
    "         .master(\"local[5]\")\n",
    "         .getOrCreate()\n",
    "        )\n",
    "sc = spark.sparkContext"
   ]
  },
  {
   "cell_type": "code",
   "execution_count": null,
   "id": "764d5e3b-6f0a-43cc-9dcf-59df803f917a",
   "metadata": {
    "tags": []
   },
   "outputs": [],
   "source": [
    "def mult(x):\n",
    "    y = np.array([2])\n",
    "    return x*y\n",
    " \n",
    "x = np.arange(10000)\n",
    "distData = sc.parallelize(x)\n",
    " \n",
    "results = distData.map(mult).collect()\n",
    " "
   ]
  },
  {
   "cell_type": "code",
   "execution_count": null,
   "id": "c2a0c33e-f5d2-44b1-8c6e-453ef91fde22",
   "metadata": {
    "tags": []
   },
   "outputs": [],
   "source": []
  },
  {
   "cell_type": "code",
   "execution_count": null,
   "id": "cbe6c5a4-ddbb-47b0-b80a-87c1f3110081",
   "metadata": {
    "tags": []
   },
   "outputs": [],
   "source": [
    "def generate_sparse_matrix_dict_repr(m,n,num_nonzero):\n",
    "    dict_repr=dict()\n",
    "    \n",
    "    i,j = np.random.choice(m, num_nonzero, replace=True) , np.random.choice(n, num_nonzero, replace=True)\n",
    "    for x,y in zip(i,j):\n",
    "        dict_repr[(x,y)]=1\n",
    "    return dict_repr"
   ]
  },
  {
   "cell_type": "code",
   "execution_count": null,
   "id": "008c662e-45db-48bd-b06d-97039791e817",
   "metadata": {
    "tags": []
   },
   "outputs": [],
   "source": [
    "def dot_product_with_dict_repr(dict_repr,m,n):\n",
    "    multiplied_dict_repr=dict()\n",
    "    for i in range(n):\n",
    "        dict_col_i={x:v for (x,y),v in dict_repr.items() if y==i}\n",
    "        dict_col_i=defaultdict(int,dict_col_i)\n",
    "        if dict_col_i:\n",
    "            for j in range(m):\n",
    "                result=0\n",
    "                dict_col_j={x:v for (x,y),v in dict_repr.items() if y==j and x in dict_col_i.keys()}\n",
    "                dict_col_j=defaultdict(int,dict_col_j)\n",
    "                if dict_col_j:\n",
    "                    for x,v in dict_col_i.items():\n",
    "                        result+= v*dict_col_j[x]\n",
    "                    if result!=0:\n",
    "                        multiplied_dict_repr[(i,j)]=result\n",
    "    return multiplied_dict_repr"
   ]
  },
  {
   "cell_type": "code",
   "execution_count": null,
   "id": "79e60639-4123-4563-8055-9920ac093630",
   "metadata": {
    "tags": []
   },
   "outputs": [],
   "source": [
    "def dict_repr_to_sp_csc(dict_rep,m,n):\n",
    "    row = np.array([])\n",
    "    col = np.array([])\n",
    "    data = np.array([])\n",
    "\n",
    "    for (x,y),v in dict_rep.items():\n",
    "        row=np.append(row,x)\n",
    "        col=np.append(col,y)\n",
    "        data=np.append(data,v)\n",
    "    return sp.csc_matrix((data, (row, col)), shape=(m, n))"
   ]
  },
  {
   "cell_type": "code",
   "execution_count": null,
   "id": "1190e319-0ab1-47d9-814a-ea26d9e9ea5a",
   "metadata": {
    "tags": []
   },
   "outputs": [],
   "source": [
    "M=int(1e7)\n",
    "N=40\n",
    "L=520"
   ]
  },
  {
   "cell_type": "code",
   "execution_count": null,
   "id": "f5915bc3-2f63-4981-9ae1-0d545da6cc6a",
   "metadata": {
    "tags": []
   },
   "outputs": [],
   "source": [
    "a=generate_sparse_matrix_dict_repr(M,N,L)"
   ]
  },
  {
   "cell_type": "code",
   "execution_count": null,
   "id": "ef39d7d1-474f-4885-b70c-623ff9e2336d",
   "metadata": {
    "tags": []
   },
   "outputs": [],
   "source": [
    "sparse_matrix=dict_repr_to_sp_csc(a,M,N)"
   ]
  },
  {
   "cell_type": "code",
   "execution_count": null,
   "id": "fc9ffcaa-bb7e-4daf-8079-222beca59917",
   "metadata": {
    "tags": []
   },
   "outputs": [],
   "source": [
    "sparse_matrix.T@sparse_matrix.toarray()"
   ]
  },
  {
   "cell_type": "code",
   "execution_count": null,
   "id": "060e3827-e48a-445e-b93b-5e21b58f3893",
   "metadata": {
    "tags": []
   },
   "outputs": [],
   "source": [
    "# non computable\n",
    "#dict_repr_to_sp_csc(dot_product_with_dict_repr(a,M,N),N,N).toarray()"
   ]
  },
  {
   "cell_type": "code",
   "execution_count": null,
   "id": "689a692d-a191-42fa-819c-9e29e99c406b",
   "metadata": {
    "tags": []
   },
   "outputs": [],
   "source": [
    "listMatrixEntry=[MatrixEntry(x,y,v) for (x,y),v in a.items()]"
   ]
  },
  {
   "cell_type": "code",
   "execution_count": null,
   "id": "007fa8ed-934e-4640-bc45-308407bb9b84",
   "metadata": {
    "tags": []
   },
   "outputs": [],
   "source": [
    "entries = sc.parallelize(listMatrixEntry)"
   ]
  },
  {
   "cell_type": "code",
   "execution_count": null,
   "id": "1bd1de7d-895e-460e-ab95-bbc51a615009",
   "metadata": {
    "tags": []
   },
   "outputs": [],
   "source": [
    "mat = CoordinateMatrix(entries, M, N)"
   ]
  },
  {
   "cell_type": "code",
   "execution_count": null,
   "id": "d9c534ba-1eca-49c1-af54-f15bc528bf28",
   "metadata": {
    "tags": []
   },
   "outputs": [],
   "source": [
    "#https://stackoverflow.com/questions/45881580/pyspark-rdd-sparse-matrix-multiplication-from-scala-to-python\n",
    "def coordinateMatrixMultiply(leftmatrix, rightmatrix):\n",
    "    left  =  leftmatrix.entries.map(lambda e: (e.j, (e.i, e.value)))\n",
    "    right = rightmatrix.entries.map(lambda e: (e.i, (e.j, e.value)))\n",
    "    productEntries = left \\\n",
    "        .join(right) \\\n",
    "        .map(lambda e: ((e[1][0][0], e[1][1][0]), (e[1][0][1]*e[1][1][1]))) \\\n",
    "        .reduceByKey(lambda x,y: x+y) \\\n",
    "        .map(lambda e: (*e[0], e[1]))\n",
    "    return productEntries"
   ]
  },
  {
   "cell_type": "code",
   "execution_count": null,
   "id": "6f36bff5-3b22-473f-ae15-2b183294f5e5",
   "metadata": {
    "tags": []
   },
   "outputs": [],
   "source": [
    "dotproduct = coordinateMatrixMultiply(mat.transpose(),mat)"
   ]
  },
  {
   "cell_type": "code",
   "execution_count": null,
   "id": "4cf1082a-b49d-42a2-8efe-e9e87f7e1849",
   "metadata": {
    "tags": []
   },
   "outputs": [],
   "source": [
    "dotproduct.collect()"
   ]
  },
  {
   "cell_type": "code",
   "execution_count": null,
   "id": "07c40e2e-f5ad-40d5-86ad-19c3f0c9c258",
   "metadata": {
    "tags": []
   },
   "outputs": [],
   "source": [
    "spark.stop()"
   ]
  }
 ],
 "metadata": {
  "kernelspec": {
   "display_name": "Python 3 (ipykernel)",
   "language": "python",
   "name": "python3"
  },
  "language_info": {
   "codemirror_mode": {
    "name": "ipython",
    "version": 3
   },
   "file_extension": ".py",
   "mimetype": "text/x-python",
   "name": "python",
   "nbconvert_exporter": "python",
   "pygments_lexer": "ipython3",
   "version": "3.10.9"
  }
 },
 "nbformat": 4,
 "nbformat_minor": 5
}
