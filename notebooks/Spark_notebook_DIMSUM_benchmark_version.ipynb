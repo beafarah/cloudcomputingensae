{
 "cells": [
  {
   "cell_type": "markdown",
   "id": "3f553c80-5efb-4a2a-bf52-f2c7ae5a812f",
   "metadata": {},
   "source": [
    "# Spark notebook for DIMSUM Algorithm (Benchmark)"
   ]
  },
  {
   "cell_type": "code",
   "execution_count": null,
   "id": "fd418828-660a-444c-8686-29b2fddbe560",
   "metadata": {
    "tags": []
   },
   "outputs": [],
   "source": [
    "!pip install -r ../requirements.txt"
   ]
  },
  {
   "cell_type": "code",
   "execution_count": null,
   "id": "b3b288f2-6cbb-4c4f-a98d-24e2156d3f6a",
   "metadata": {
    "tags": []
   },
   "outputs": [],
   "source": [
    "TEST = True"
   ]
  },
  {
   "cell_type": "markdown",
   "id": "1b9cb502-12a9-4182-b417-036c9f06fae7",
   "metadata": {},
   "source": [
    "## Import, functions and Spark Init"
   ]
  },
  {
   "cell_type": "code",
   "execution_count": null,
   "id": "7ad6fadf-74e3-492f-b613-d674ad53e50f",
   "metadata": {
    "tags": []
   },
   "outputs": [],
   "source": [
    "import numpy as np\n",
    "import scipy as sc\n",
    "import scipy.sparse as sp\n",
    "import random\n",
    "from collections import defaultdict\n",
    "from pyspark.sql import SparkSession\n",
    "from pyspark.mllib.linalg.distributed import MatrixEntry, CoordinateMatrix\n",
    "from numpy import linalg as LA\n",
    "from collections import Counter\n",
    "\n",
    "spark = (\n",
    "    SparkSession.builder.appName(\"Cloud computing ENSAE project\")\n",
    "    .master(\"local[5]\")\n",
    "    .getOrCreate()\n",
    ")\n",
    "sc = spark.sparkContext"
   ]
  },
  {
   "cell_type": "code",
   "execution_count": null,
   "id": "cbe6c5a4-ddbb-47b0-b80a-87c1f3110081",
   "metadata": {
    "tags": []
   },
   "outputs": [],
   "source": [
    "def generate_sparse_matrix_dict_repr(m, n, num_nonzero):\n",
    "    dict_repr = dict()\n",
    "    i, j = np.random.choice(m, num_nonzero, replace=True), np.random.choice(\n",
    "        n, num_nonzero, replace=True\n",
    "    )\n",
    "    for x, y in zip(i, j):\n",
    "        dict_repr[(x, y)] = 1\n",
    "    return dict_repr"
   ]
  },
  {
   "cell_type": "code",
   "execution_count": null,
   "id": "008c662e-45db-48bd-b06d-97039791e817",
   "metadata": {
    "tags": []
   },
   "outputs": [],
   "source": [
    "def dot_product_with_dict_repr(dict_repr, m, n):\n",
    "    multiplied_dict_repr = dict()\n",
    "    for i in range(n):\n",
    "        dict_col_i = {x: v for (x, y), v in dict_repr.items() if y == i}\n",
    "        dict_col_i = defaultdict(int, dict_col_i)\n",
    "        if dict_col_i:\n",
    "            for j in range(m):\n",
    "                result = 0\n",
    "                dict_col_j = {\n",
    "                    x: v\n",
    "                    for (x, y), v in dict_repr.items()\n",
    "                    if y == j and x in dict_col_i.keys()\n",
    "                }\n",
    "                dict_col_j = defaultdict(int, dict_col_j)\n",
    "                if dict_col_j:\n",
    "                    for x, v in dict_col_i.items():\n",
    "                        result += v * dict_col_j[x]\n",
    "                    if result != 0:\n",
    "                        multiplied_dict_repr[(i, j)] = result\n",
    "    return multiplied_dict_repr"
   ]
  },
  {
   "cell_type": "code",
   "execution_count": null,
   "id": "79e60639-4123-4563-8055-9920ac093630",
   "metadata": {
    "tags": []
   },
   "outputs": [],
   "source": [
    "def dict_repr_to_sp_csc(dict_rep, m, n):\n",
    "    row = np.array([])\n",
    "    col = np.array([])\n",
    "    data = np.array([])\n",
    "\n",
    "    for (x, y), v in dict_rep.items():\n",
    "        row = np.append(row, x)\n",
    "        col = np.append(col, y)\n",
    "        data = np.append(data, v)\n",
    "    return sp.csc_matrix((data, (row, col)), shape=(m, n))"
   ]
  },
  {
   "cell_type": "markdown",
   "id": "c365c0d7-de39-4778-922e-2c5782b0dc39",
   "metadata": {},
   "source": [
    "## Parameters and init data"
   ]
  },
  {
   "cell_type": "code",
   "execution_count": null,
   "id": "651d31f3-b2cf-4b36-a764-77a57f685ac4",
   "metadata": {
    "tags": []
   },
   "outputs": [],
   "source": [
    "if TEST:\n",
    "    M = int(1e18)\n",
    "    N = int(1e4)\n",
    "    L = int(1e4)\n",
    "    GAMMA = 0.5\n",
    "\n",
    "a = generate_sparse_matrix_dict_repr(M, N, L)\n",
    "\n",
    "listMatrixEntry = [MatrixEntry(x, y, v) for (x, y), v in a.items()]\n",
    "\n",
    "entries = sc.parallelize(listMatrixEntry)\n",
    "\n",
    "mat = CoordinateMatrix(entries, M, N)\n",
    "\n",
    "# https://stackoverflow.com/questions/45881580/pyspark-rdd-sparse-matrix-multiplication-from-scala-to-python\n",
    "def coordinateMatrixMultiply(leftmatrix, rightmatrix):\n",
    "    left = leftmatrix.entries.map(lambda e: (e.j, (e.i, e.value)))\n",
    "    right = rightmatrix.entries.map(lambda e: (e.i, (e.j, e.value)))\n",
    "    productEntries = (\n",
    "        left.join(right)\n",
    "        .map(lambda e: ((e[1][0][0], e[1][1][0]), (e[1][0][1] * e[1][1][1])))\n",
    "        .reduceByKey(lambda x, y: x + y)\n",
    "        .map(lambda e: (*e[0], e[1]))\n",
    "    )\n",
    "    return productEntries\n",
    "\n",
    "def to_list(a):\n",
    "    return [a]\n",
    "\n",
    "\n",
    "def append(a, b):\n",
    "    a.append(b)\n",
    "    return a\n",
    "\n",
    "\n",
    "def extend(a, b):\n",
    "    a.extend(b)\n",
    "    return a\n",
    "\n",
    "def mapper(aij, aik, cj_norm, ck_norm, gamma=1.0):\n",
    "    if random.randint(0, 1) >= min(1.0, gamma / (ck_norm * cj_norm)):\n",
    "        return aij * aik\n",
    "\n",
    "norm_cols = (\n",
    "    mat.transpose()\n",
    "    .entries.map(lambda e: (e.i, (e.j, e.value)))\n",
    "    .combineByKey(to_list, append, extend)\n",
    "    .map(lambda e: (e[0], LA.norm(list(map(lambda x: x[1], e[1])))))\n",
    ")\n",
    "\n",
    "left = (\n",
    "    mat.transpose()\n",
    "    .entries.map(lambda e: (e.i, (e.j, e.value)))\n",
    "    .leftOuterJoin(norm_cols)\n",
    "    .map(lambda e: (e[1][0][0], (e[0], e[1][0][1], e[1][1])))\n",
    ")\n",
    "\n",
    "right = (\n",
    "    mat.entries.map(lambda e: (e.j, (e.i, e.j, e.value)))\n",
    "    .leftOuterJoin(norm_cols)\n",
    "    .map(lambda e: (e[1][0][0], (e[1][0][1], e[1][0][2], e[1][1])))\n",
    ")\n",
    "\n",
    "productEntriesMap = (\n",
    "    left.join(right)\n",
    "    .map(\n",
    "        lambda e: (\n",
    "            (e[1][0][0], e[1][1][0]),\n",
    "            mapper(e[1][0][1], e[1][1][1], e[1][0][2], e[1][1][2], gamma=GAMMA),\n",
    "        )\n",
    "    )\n",
    "    .filter(lambda e: e[1] is not None)\n",
    ")"
   ]
  },
  {
   "cell_type": "code",
   "execution_count": null,
   "id": "b5152b8f-1ff7-4f79-8f32-2f8043e79b89",
   "metadata": {
    "tags": []
   },
   "outputs": [],
   "source": [
    "%%timeit -r10\n",
    "\n",
    "NUMBER_OF_SIMULATIONS=1\n",
    "\n",
    "list_multiple_results_dimsum=[]\n",
    "for _ in range(NUMBER_OF_SIMULATIONS):\n",
    "    final_product = (\n",
    "        productEntriesMap.map(lambda e: (e[0][0], (e[0][1], e[1])))\n",
    "        .leftOuterJoin(norm_cols)\n",
    "        .map(lambda e: (e[1][0][0], ((e[0], e[1][0][0]), e[1][0][1], e[1][1])))\n",
    "        .leftOuterJoin(norm_cols)\n",
    "        .map(lambda e: ((*e[1][0][0], e[1][0][2] * e[1][1]), e[1][0][1]))\n",
    "        .reduceByKey(lambda x, y: x + y)\n",
    "        .map(lambda e: ((e[0][0], e[0][1]), e[1] / min(GAMMA, e[0][2])))\n",
    "    )\n",
    "    list_dimsum=sorted(final_product.collect())\n",
    "    list_multiple_results_dimsum.append(list_dimsum)\n",
    "    \n",
    "counter=Counter()\n",
    "for result in list_multiple_results_dimsum:\n",
    "    counter+=Counter({k:v for (k,v) in result})\n",
    "for k in counter.keys():\n",
    "    counter[k] /= NUMBER_OF_SIMULATIONS"
   ]
  },
  {
   "cell_type": "code",
   "execution_count": null,
   "id": "9530e140-fafe-4f6a-a247-05fbfa038031",
   "metadata": {
    "tags": []
   },
   "outputs": [],
   "source": [
    "%%timeit -r10\n",
    "dotproduct = coordinateMatrixMultiply(mat.transpose(), mat)\n",
    "dotproduct.collect()"
   ]
  }
 ],
 "metadata": {
  "kernelspec": {
   "display_name": "Python 3 (ipykernel)",
   "language": "python",
   "name": "python3"
  },
  "language_info": {
   "codemirror_mode": {
    "name": "ipython",
    "version": 3
   },
   "file_extension": ".py",
   "mimetype": "text/x-python",
   "name": "python",
   "nbconvert_exporter": "python",
   "pygments_lexer": "ipython3",
   "version": "3.10.9"
  }
 },
 "nbformat": 4,
 "nbformat_minor": 5
}
