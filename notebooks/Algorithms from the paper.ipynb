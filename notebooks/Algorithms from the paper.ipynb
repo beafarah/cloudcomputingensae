{
 "cells": [
  {
   "cell_type": "markdown",
   "id": "5d6deb64",
   "metadata": {},
   "source": [
    "### Methods proposed in the article \n",
    "\n",
    "$A$ is a sparse matrix of size $m \\times n$ with $L$ nonzero elements per row"
   ]
  },
  {
   "cell_type": "code",
   "execution_count": 19,
   "id": "9d5948af",
   "metadata": {},
   "outputs": [],
   "source": [
    "import numpy as np\n",
    "import os\n",
    "import sys\n",
    "project_dir = os.getcwd().split('notebooks')[0]\n",
    "sys.path.append(project_dir)"
   ]
  },
  {
   "cell_type": "code",
   "execution_count": 20,
   "id": "a8d31054",
   "metadata": {},
   "outputs": [],
   "source": [
    "from src.helper import *"
   ]
  },
  {
   "cell_type": "markdown",
   "id": "72ff353a",
   "metadata": {},
   "source": [
    "#### 1) Algorithm 1: NaiveMapper"
   ]
  },
  {
   "cell_type": "code",
   "execution_count": 21,
   "id": "d0180ab7",
   "metadata": {},
   "outputs": [],
   "source": [
    "def NaiveMapper(A):\n",
    "    \"\"\"\n",
    "    Function that computes sparse matrix multiplication\n",
    "    input: \n",
    "    A: sparse matrix\n",
    "    output:\n",
    "    AProd: dot products between columns of A\n",
    "    \"\"\"\n",
    "    (m,n) = A.shape\n",
    "    AProd = sum( [A[i][0]*A[i] for i in range(len(A))] ) # we walk through the rows\n",
    "    for r in range(1,n): # then emit the columns\n",
    "        AProd = np.vstack((AProd,sum( [A[i][r]*A[i] for i in range(len(A))] ) ))\n",
    "    return AProd\n",
    "    "
   ]
  },
  {
   "cell_type": "markdown",
   "id": "7e4d8113",
   "metadata": {},
   "source": [
    "#### 2) Algorithm 2: NaiveReducer"
   ]
  },
  {
   "cell_type": "code",
   "execution_count": 22,
   "id": "f3ffe2f8",
   "metadata": {},
   "outputs": [],
   "source": [
    "def NaiveReducer(C):\n",
    "    \"\"\"\n",
    "    Function that computes the sum of lists of arrays\n",
    "    input:\n",
    "    C: list of arrays\n",
    "    output:\n",
    "    sum(C): sum of list of arrays\n",
    "    \"\"\"\n",
    "    return sum(C)"
   ]
  },
  {
   "cell_type": "code",
   "execution_count": 23,
   "id": "95b032af",
   "metadata": {},
   "outputs": [
    {
     "data": {
      "text/plain": [
       "array([0.        , 0.82547923, 0.24802412, 0.52095399])"
      ]
     },
     "execution_count": 23,
     "metadata": {},
     "output_type": "execute_result"
    }
   ],
   "source": [
    "# Example\n",
    "A = sparse_generator(3,4)\n",
    "NaiveMapper(A)\n",
    "\n",
    "#A^T A:\n",
    "NaiveReducer(NaiveMapper(A))"
   ]
  },
  {
   "cell_type": "markdown",
   "id": "2b4b7b8c",
   "metadata": {},
   "source": [
    "#### 3) Algorithm 3: DIMSUMMapper"
   ]
  },
  {
   "cell_type": "code",
   "execution_count": 24,
   "id": "200f0f60",
   "metadata": {},
   "outputs": [],
   "source": [
    "def norm(A):\n",
    "    \"\"\"\n",
    "    Function that computes the norm 2 of each column of a matrix\n",
    "    input:\n",
    "    A: matrix\n",
    "    output:\n",
    "    norm: array of norms of each column\n",
    "    \"\"\"\n",
    "    norm = (np.square(A).sum(axis=0))**(1/2) \n",
    "    return norm"
   ]
  },
  {
   "cell_type": "code",
   "execution_count": 25,
   "id": "3114a405",
   "metadata": {},
   "outputs": [],
   "source": [
    "def mapper(mat, gamma):\n",
    "    norms_array = norm(mat)\n",
    "    gamma_copy = gamma\n",
    "    nrow, ncol = mat.shape\n",
    "    output = np.zeros((ncol, ncol)) # note that ncol << nrow, so the for loops are OK\n",
    "    for i_output in range(ncol):\n",
    "        for j_output in range(ncol):\n",
    "            # randomly choose pairs\n",
    "            random_values = np.random.rand(nrow)\n",
    "            probas = gamma_copy/(norms_array[i_output]*norms_array[j_output])*np.ones((nrow,))\n",
    "            bool_vect = (probas < random_values)\n",
    "            # sum chosen pairs\n",
    "            output[i_output, j_output] = np.sum(mat[bool_vect, i_output]*mat[bool_vect, j_output])\n",
    "    return output"
   ]
  },
  {
   "cell_type": "code",
   "execution_count": 26,
   "id": "40f30401",
   "metadata": {},
   "outputs": [
    {
     "data": {
      "text/plain": [
       "array([[0.        , 0.        , 0.        , 0.        ],\n",
       "       [0.        , 0.82547923, 0.        , 0.        ],\n",
       "       [0.        , 0.        , 0.24802412, 0.        ],\n",
       "       [0.        , 0.        , 0.        , 0.52095399]])"
      ]
     },
     "execution_count": 26,
     "metadata": {},
     "output_type": "execute_result"
    }
   ],
   "source": [
    "NaiveMapper(A)"
   ]
  },
  {
   "cell_type": "code",
   "execution_count": 30,
   "id": "44842502",
   "metadata": {},
   "outputs": [
    {
     "name": "stderr",
     "output_type": "stream",
     "text": [
      "C:\\Users\\biafa\\Anaconda3\\lib\\site-packages\\ipykernel_launcher.py:10: RuntimeWarning: divide by zero encountered in double_scalars\n",
      "  # Remove the CWD from sys.path while we load stuff.\n"
     ]
    },
    {
     "data": {
      "text/plain": [
       "array([[0.        , 0.        , 0.        , 0.        ],\n",
       "       [0.        , 0.        , 0.        , 0.        ],\n",
       "       [0.        , 0.        , 0.24802412, 0.        ],\n",
       "       [0.        , 0.        , 0.        , 0.52095399]])"
      ]
     },
     "execution_count": 30,
     "metadata": {},
     "output_type": "execute_result"
    }
   ],
   "source": [
    "mapper(A, 0.1)"
   ]
  },
  {
   "cell_type": "code",
   "execution_count": null,
   "id": "6d10e24b",
   "metadata": {},
   "outputs": [],
   "source": [
    "def DIMSUMMApper(A, gamma):\n",
    "    (m,n) = A.shape \n",
    "    Anorm = norm(A) # norm of columns of A\n",
    "    AProd = np.zeros((m,m))\n",
    "    for ci in range(n):\n",
    "        for cj in range(n):\n",
    "            prob = min(1, gamma*1/(Anorm[ci]*Anorm[cj]))\n",
    "            random_value = np.random.rand()\n",
    "            if random_value "
   ]
  }
 ],
 "metadata": {
  "kernelspec": {
   "display_name": "Python 3",
   "language": "python",
   "name": "python3"
  },
  "language_info": {
   "codemirror_mode": {
    "name": "ipython",
    "version": 3
   },
   "file_extension": ".py",
   "mimetype": "text/x-python",
   "name": "python",
   "nbconvert_exporter": "python",
   "pygments_lexer": "ipython3",
   "version": "3.6.5"
  }
 },
 "nbformat": 4,
 "nbformat_minor": 5
}
