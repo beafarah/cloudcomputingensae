{
 "cells": [
  {
   "cell_type": "markdown",
   "id": "6b8d5de5",
   "metadata": {},
   "source": [
    "### Methods proposed in the article "
   ]
  },
  {
   "cell_type": "code",
   "execution_count": 1,
   "id": "3970c802",
   "metadata": {},
   "outputs": [],
   "source": [
    "import numpy as np\n",
    "import os\n",
    "import sys\n",
    "project_dir = os.getcwd().split('notebooks')[0]\n",
    "sys.path.append(project_dir)"
   ]
  },
  {
   "cell_type": "code",
   "execution_count": 2,
   "id": "5db6f515",
   "metadata": {},
   "outputs": [],
   "source": [
    "from src.helper import *"
   ]
  },
  {
   "cell_type": "markdown",
   "id": "3eff49b4",
   "metadata": {},
   "source": [
    "#### 1) Algorithm 1: NaiveMapper"
   ]
  },
  {
   "cell_type": "code",
   "execution_count": 3,
   "id": "abd689fb",
   "metadata": {},
   "outputs": [],
   "source": [
    "def NaiveMapper(A):\n",
    "    \"\"\"\n",
    "    Function that computes sparse matrix multiplication\n",
    "    input: \n",
    "    A: sparse matrix\n",
    "    output:\n",
    "    AProd: dot products between columns of A\n",
    "    \"\"\"\n",
    "    (n,m) = A.shape\n",
    "    AProd = sum( [A[i][0]*A[i] for i in range(len(A))] ) # we walk through the rows\n",
    "    for r in range(1,m): # then emit the columns\n",
    "        AProd = np.vstack((AProd,sum( [A[i][r]*A[i] for i in range(len(A))] ) ))\n",
    "    return AProd\n",
    "    "
   ]
  },
  {
   "cell_type": "markdown",
   "id": "6bba49bc",
   "metadata": {},
   "source": [
    "#### 2) Algorithm 2: NaiveReducer"
   ]
  },
  {
   "cell_type": "code",
   "execution_count": 4,
   "id": "695a94c7",
   "metadata": {},
   "outputs": [],
   "source": [
    "def NaiveReducer(C):\n",
    "    \"\"\"\n",
    "    Function that computes the sum of lists of arrays\n",
    "    input:\n",
    "    C: list of arrays\n",
    "    output:\n",
    "    sum(C): sum of list of arrays\n",
    "    \"\"\"\n",
    "    return sum(C)"
   ]
  },
  {
   "cell_type": "code",
   "execution_count": 17,
   "id": "37abd7be",
   "metadata": {},
   "outputs": [
    {
     "data": {
      "text/plain": [
       "array([0.29507559, 0.90107394, 0.        , 0.        ])"
      ]
     },
     "execution_count": 17,
     "metadata": {},
     "output_type": "execute_result"
    }
   ],
   "source": [
    "# Example\n",
    "A = sparse_generator(3,4)\n",
    "NaiveMapper(A)\n",
    "\n",
    "#A^T A:\n",
    "NaiveReducer(NaiveMapper(A))"
   ]
  },
  {
   "cell_type": "markdown",
   "id": "74f35702",
   "metadata": {},
   "source": [
    "#### 3) Algorithm 3: DIMSUMMapper"
   ]
  },
  {
   "cell_type": "code",
   "execution_count": 18,
   "id": "abb58e64",
   "metadata": {},
   "outputs": [],
   "source": [
    "def norm(A):\n",
    "    \"\"\"\n",
    "    Function that computes the norm 2 of each column of a matrix\n",
    "    input:\n",
    "    A: matrix\n",
    "    output:\n",
    "    norm: array of norms of each column\n",
    "    \"\"\"\n",
    "    norm = (np.square(A).sum(axis=0))**(1/2) \n",
    "    return norm"
   ]
  },
  {
   "cell_type": "code",
   "execution_count": 19,
   "id": "d9255a8b",
   "metadata": {},
   "outputs": [],
   "source": [
    "(n,m) = A.shape"
   ]
  },
  {
   "cell_type": "code",
   "execution_count": 21,
   "id": "0c1116a2",
   "metadata": {},
   "outputs": [
    {
     "data": {
      "text/plain": [
       "array([[ 0.54320861,  0.        ,  0.        ,  0.        ],\n",
       "       [ 0.        ,  0.0648094 ,  0.        ,  0.        ],\n",
       "       [ 0.        , -0.94703415,  0.        ,  0.        ]])"
      ]
     },
     "execution_count": 21,
     "metadata": {},
     "output_type": "execute_result"
    }
   ],
   "source": [
    "A"
   ]
  },
  {
   "cell_type": "code",
   "execution_count": null,
   "id": "2db43894",
   "metadata": {},
   "outputs": [],
   "source": [
    "def DIMSUMMApper(A, gamma):\n",
    "    (n,m) = A.shape \n",
    "    Anorm = norm(A) # norm of columns of A\n",
    "    for ci in range(n):\n",
    "        for cj in range(n):\n",
    "            "
   ]
  }
 ],
 "metadata": {
  "kernelspec": {
   "display_name": "Python 3",
   "language": "python",
   "name": "python3"
  },
  "language_info": {
   "codemirror_mode": {
    "name": "ipython",
    "version": 3
   },
   "file_extension": ".py",
   "mimetype": "text/x-python",
   "name": "python",
   "nbconvert_exporter": "python",
   "pygments_lexer": "ipython3",
   "version": "3.6.5"
  }
 },
 "nbformat": 4,
 "nbformat_minor": 5
}
