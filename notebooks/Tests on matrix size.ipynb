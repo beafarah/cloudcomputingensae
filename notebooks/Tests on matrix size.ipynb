{
 "cells": [
  {
   "cell_type": "code",
   "execution_count": 1,
   "id": "dfbf76ce",
   "metadata": {},
   "outputs": [],
   "source": [
    "import numpy as np\n",
    "import random\n",
    "import time\n",
    "import matplotlib.pyplot as plt"
   ]
  },
  {
   "cell_type": "code",
   "execution_count": 2,
   "id": "b395d8be",
   "metadata": {},
   "outputs": [],
   "source": [
    "import os\n",
    "import sys\n",
    "project_dir = os.getcwd().split('notebooks')[0]\n",
    "sys.path.append(project_dir)"
   ]
  },
  {
   "cell_type": "code",
   "execution_count": 3,
   "id": "84b51eac",
   "metadata": {},
   "outputs": [],
   "source": [
    "from src.helper import *\n",
    "from src.methods_py import *"
   ]
  },
  {
   "cell_type": "markdown",
   "id": "31c73638",
   "metadata": {},
   "source": [
    "### Framework:\n",
    "- $A$ sparse matrix of size $m \\times n$ with each row having at most $L$ nonzero entries\n",
    "- We assume that the entries in A have been scaled to [-1,1]\n",
    "\n",
    "In the reference paper, it is set $m = 10^{13}$. We wish to see in this case what the is the limit of the highest $n$ that we can use such that $A$ can still be stored. Then we'll compute $A^T A$ for different $n$ and analyse the corresponding calculation time.\n"
   ]
  },
  {
   "cell_type": "markdown",
   "id": "bd38810c",
   "metadata": {},
   "source": [
    "In fact, we see that for $m=10^{13}$, we can't even stock the sparse matrix (even for small values of $n$):"
   ]
  },
  {
   "cell_type": "code",
   "execution_count": 4,
   "id": "dd4e5444",
   "metadata": {},
   "outputs": [
    {
     "ename": "MemoryError",
     "evalue": "Unable to allocate 72.8 TiB for an array with shape (10000000000000, 1) and data type float64",
     "output_type": "error",
     "traceback": [
      "\u001b[1;31m---------------------------------------------------------------------------\u001b[0m",
      "\u001b[1;31mMemoryError\u001b[0m                               Traceback (most recent call last)",
      "\u001b[1;32m<ipython-input-4-719f18c5b494>\u001b[0m in \u001b[0;36m<module>\u001b[1;34m\u001b[0m\n\u001b[0;32m      1\u001b[0m \u001b[1;31m# We get a memory error for m=10^13\u001b[0m\u001b[1;33m\u001b[0m\u001b[1;33m\u001b[0m\u001b[0m\n\u001b[1;32m----> 2\u001b[1;33m \u001b[0mA\u001b[0m \u001b[1;33m=\u001b[0m \u001b[0msparse_generator\u001b[0m\u001b[1;33m(\u001b[0m\u001b[1;36m10\u001b[0m\u001b[1;33m**\u001b[0m\u001b[1;36m13\u001b[0m\u001b[1;33m,\u001b[0m \u001b[1;36m1\u001b[0m\u001b[1;33m,\u001b[0m\u001b[0mL\u001b[0m\u001b[1;33m=\u001b[0m\u001b[1;36m1\u001b[0m\u001b[1;33m)\u001b[0m\u001b[1;33m\u001b[0m\u001b[0m\n\u001b[0m",
      "\u001b[1;32m~\\OneDrive\\Documentos\\GitHub\\cloudcomputingensae\\src\\helper.py\u001b[0m in \u001b[0;36msparse_generator\u001b[1;34m(m, n, L)\u001b[0m\n\u001b[0;32m     12\u001b[0m     \u001b[0mrandom\u001b[0m \u001b[0msparse\u001b[0m \u001b[0mmatrix\u001b[0m \u001b[0mA\u001b[0m\u001b[1;33m\u001b[0m\u001b[0m\n\u001b[0;32m     13\u001b[0m     \"\"\"\n\u001b[1;32m---> 14\u001b[1;33m     \u001b[0mA\u001b[0m \u001b[1;33m=\u001b[0m \u001b[0mnp\u001b[0m\u001b[1;33m.\u001b[0m\u001b[0mzeros\u001b[0m\u001b[1;33m(\u001b[0m\u001b[1;33m(\u001b[0m\u001b[0mm\u001b[0m\u001b[1;33m,\u001b[0m\u001b[0mn\u001b[0m\u001b[1;33m)\u001b[0m\u001b[1;33m)\u001b[0m\u001b[1;33m\u001b[0m\u001b[0m\n\u001b[0m\u001b[0;32m     15\u001b[0m     \u001b[1;32mfor\u001b[0m \u001b[0mrow\u001b[0m \u001b[1;32min\u001b[0m \u001b[0mrange\u001b[0m\u001b[1;33m(\u001b[0m\u001b[0mm\u001b[0m\u001b[1;33m)\u001b[0m\u001b[1;33m:\u001b[0m\u001b[1;33m\u001b[0m\u001b[0m\n\u001b[0;32m     16\u001b[0m         \u001b[0mnew_value\u001b[0m \u001b[1;33m=\u001b[0m \u001b[1;33m[\u001b[0m\u001b[1;36m2\u001b[0m\u001b[1;33m*\u001b[0m\u001b[0mrandom\u001b[0m\u001b[1;33m.\u001b[0m\u001b[0mrandom\u001b[0m\u001b[1;33m(\u001b[0m\u001b[1;33m)\u001b[0m\u001b[1;33m-\u001b[0m\u001b[1;36m1\u001b[0m \u001b[1;32mfor\u001b[0m \u001b[0mj\u001b[0m \u001b[1;32min\u001b[0m \u001b[0mrange\u001b[0m\u001b[1;33m(\u001b[0m\u001b[0mL\u001b[0m\u001b[1;33m)\u001b[0m\u001b[1;33m]\u001b[0m \u001b[1;31m# random numbers in [-1,1]. we'll have at most L nonzero entries in each row\u001b[0m\u001b[1;33m\u001b[0m\u001b[0m\n",
      "\u001b[1;31mMemoryError\u001b[0m: Unable to allocate 72.8 TiB for an array with shape (10000000000000, 1) and data type float64"
     ]
    }
   ],
   "source": [
    "# We get a memory error for m=10^13\n",
    "A = sparse_generator(10**13, 1,L=1)"
   ]
  },
  {
   "cell_type": "markdown",
   "id": "113aaca3",
   "metadata": {},
   "source": [
    "Therefore we will do the tests with much smaller values of $m$. We'll define a function that computes the execution time for the matrix for each method:\n",
    "\n",
    "- \"analytic\": Numpy's matrix multiplication ``A.T@A``\n",
    "- \"naive\": Naive method of matrix multiplication\n",
    "- \"dimsum\": Efficient method of matrix multiplication"
   ]
  },
  {
   "cell_type": "code",
   "execution_count": 13,
   "id": "8a15cbe2",
   "metadata": {},
   "outputs": [],
   "source": [
    "def compute_time(A, method):\n",
    "    \"\"\"\n",
    "    Function to compute time for each method of matrix multiplication\n",
    "    input:\n",
    "    A: sparse matrix\n",
    "    method: can be \"analytic\", \"naive\" or \"dimsum\"\n",
    "    output:\n",
    "    execution time\n",
    "    prod: matrix product\n",
    "    \"\"\"\n",
    "    start = time.time()\n",
    "    if method == \"analytic\":\n",
    "        prod = A.T@A\n",
    "    elif method == \"naive\":\n",
    "        prod = NaiveProd(A)\n",
    "    elif method == \"dimsum\":\n",
    "        prod = DIMSUMProd(A, gamma = 1, nb_it = 1)\n",
    "    \n",
    "    end = time.time()\n",
    "    return end-start, prod"
   ]
  },
  {
   "cell_type": "code",
   "execution_count": 14,
   "id": "25951881",
   "metadata": {},
   "outputs": [
    {
     "name": "stdout",
     "output_type": "stream",
     "text": [
      "0 100\n",
      "1 1000\n",
      "2 10000\n"
     ]
    }
   ],
   "source": [
    "#num = 10\n",
    "#ms = np.linspace(10**2, 10**5, num)\n",
    "ms = [10**2, 10**3, 10**4]\n",
    "n = 10**2\n",
    "L = 1\n",
    "times_an = []\n",
    "times_naiv = []\n",
    "times_dim = []\n",
    "\n",
    "error_naiv = []\n",
    "error_dim = []\n",
    "for ind,m in enumerate(ms):\n",
    "    print(ind, m)\n",
    "    m = int(m)\n",
    "    A = sparse_generator(m, n,L)\n",
    "    t_an, m_an = compute_time(A, \"analytic\")\n",
    "    times_an.append(t_an)\n",
    "    t_nai, m_nai = compute_time(A, \"naive\")\n",
    "    times_naiv.append(t_nai)\n",
    "    t_dim, m_dim = compute_time(A, \"dimsum\")\n",
    "    times_dim.append(t_dim)\n",
    "    error_naiv.append(np.linalg.norm(m_an - m_nai))\n",
    "    error_dim.append(np.linalg.norm(m_an - m_dim))"
   ]
  },
  {
   "cell_type": "code",
   "execution_count": 15,
   "id": "9e65009d",
   "metadata": {},
   "outputs": [
    {
     "data": {
      "image/png": "[encoded data removed]",
      "text/plain": [
       "<Figure size 720x360 with 1 Axes>"
      ]
     },
     "metadata": {
      "needs_background": "light"
     },
     "output_type": "display_data"
    }
   ],
   "source": [
    "plt.figure(figsize=(10,5))\n",
    "plt.loglog(ms, times_dim, label = 'DIMSUM')\n",
    "plt.loglog(ms, times_naiv, label = 'Naive')\n",
    "plt.legend(loc = 'lower right')\n",
    "plt.xlabel('m')\n",
    "plt.ylabel('time (s)')\n",
    "plt.title('Execution time')\n",
    "plt.show()"
   ]
  },
  {
   "cell_type": "code",
   "execution_count": 16,
   "id": "e7914a84",
   "metadata": {},
   "outputs": [
    {
     "data": {
      "image/png": "[encoded data removed]",
      "text/plain": [
       "<Figure size 720x360 with 1 Axes>"
      ]
     },
     "metadata": {
      "needs_background": "light"
     },
     "output_type": "display_data"
    }
   ],
   "source": [
    "plt.figure(figsize=(10,5))\n",
    "plt.loglog(ms, error_dim, label = 'DIMSUM')\n",
    "plt.loglog(ms, error_naiv, label = 'Naive')\n",
    "plt.legend(loc = 'lower right')\n",
    "plt.xlabel('m')\n",
    "plt.ylabel('time (s)')\n",
    "plt.title('Normed distance to result')\n",
    "plt.show()"
   ]
  },
  {
   "cell_type": "code",
   "execution_count": null,
   "id": "51df791e",
   "metadata": {},
   "outputs": [],
   "source": []
  }
 ],
 "metadata": {
  "kernelspec": {
   "display_name": "Python 3",
   "language": "python",
   "name": "python3"
  },
  "language_info": {
   "codemirror_mode": {
    "name": "ipython",
    "version": 3
   },
   "file_extension": ".py",
   "mimetype": "text/x-python",
   "name": "python",
   "nbconvert_exporter": "python",
   "pygments_lexer": "ipython3",
   "version": "3.6.5"
  }
 },
 "nbformat": 4,
 "nbformat_minor": 5
}
