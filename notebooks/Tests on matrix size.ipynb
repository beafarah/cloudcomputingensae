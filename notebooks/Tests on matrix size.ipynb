{
 "cells": [
  {
   "cell_type": "code",
   "execution_count": 49,
   "id": "c7a4cf5d",
   "metadata": {},
   "outputs": [],
   "source": [
    "import numpy as np\n",
    "import random\n",
    "import time"
   ]
  },
  {
   "cell_type": "code",
   "execution_count": 10,
   "id": "8a8e69d3",
   "metadata": {},
   "outputs": [],
   "source": [
    "import os\n",
    "import sys\n",
    "project_dir = os.getcwd().split('notebooks')[0]\n",
    "sys.path.append(project_dir)"
   ]
  },
  {
   "cell_type": "code",
   "execution_count": 11,
   "id": "b9b4f230",
   "metadata": {},
   "outputs": [],
   "source": [
    "from src.helper import *\n",
    "from src.methods_py import *"
   ]
  },
  {
   "cell_type": "markdown",
   "id": "ebb5a2aa",
   "metadata": {},
   "source": [
    "### Framework:\n",
    "- $A$ sparse matrix of size $m \\times n$ with each row having at most $L$ nonzero entries\n",
    "- We assume that the entries in A have been scaled to [-1,1]\n",
    "\n",
    "In the reference paper, it is set $m = 10^{13}$. We wish to see in this case what the is the limit of the highest $n$ that we can use such that $A$ can still be stored. Then we'll compute $A^T A$ for different $n$ and analyse the corresponding calculation time.\n"
   ]
  },
  {
   "cell_type": "code",
   "execution_count": 75,
   "id": "61b99cd7",
   "metadata": {},
   "outputs": [],
   "source": [
    "A = sparse_generator(10**4, 10**2,L=1)"
   ]
  },
  {
   "cell_type": "code",
   "execution_count": 93,
   "id": "faf9ff68",
   "metadata": {},
   "outputs": [],
   "source": [
    "def compute_time(A, method):\n",
    "    \"\"\"\n",
    "    Function to compute time for each method of matrix multiplication\n",
    "    input:\n",
    "    A: sparse matrix\n",
    "    method: can be \"analytic\", \"naive\" or \"dimsum\"\n",
    "    output:\n",
    "    execution time\n",
    "    prod: matrix product\n",
    "    \"\"\"\n",
    "    start = time.time()\n",
    "    if method == \"analytic\":\n",
    "        prod = A.T@A\n",
    "    elif method == \"naive\":\n",
    "        prod = NaiveProd(A)\n",
    "    elif method == \"dimsum\":\n",
    "        prod = dimsum = DIMSUMProd(A, 1)\n",
    "    \n",
    "    end = time.time()\n",
    "    return end-start, prod"
   ]
  },
  {
   "cell_type": "code",
   "execution_count": 97,
   "id": "fdd785bc",
   "metadata": {},
   "outputs": [],
   "source": [
    "A = sparse_generator(10**2, 50,L=5)"
   ]
  },
  {
   "cell_type": "code",
   "execution_count": 92,
   "id": "402beae7",
   "metadata": {},
   "outputs": [
    {
     "data": {
      "text/plain": [
       "(3.3577942848205566,\n",
       " array([[27.81023041,  0.        ,  0.        , ...,  0.        ,\n",
       "          0.        ,  0.        ],\n",
       "        [ 0.        , 30.228017  ,  0.        , ...,  0.        ,\n",
       "          0.        ,  0.        ],\n",
       "        [ 0.        ,  0.        , 39.54556451, ...,  0.        ,\n",
       "          0.        ,  0.        ],\n",
       "        ...,\n",
       "        [ 0.        ,  0.        ,  0.        , ..., 39.26208277,\n",
       "          0.        ,  0.        ],\n",
       "        [ 0.        ,  0.        ,  0.        , ...,  0.        ,\n",
       "         40.82746551,  0.        ],\n",
       "        [ 0.        ,  0.        ,  0.        , ...,  0.        ,\n",
       "          0.        , 32.9469941 ]]))"
      ]
     },
     "execution_count": 92,
     "metadata": {},
     "output_type": "execute_result"
    }
   ],
   "source": [
    "compute_time(A, \"naive\")"
   ]
  },
  {
   "cell_type": "code",
   "execution_count": null,
   "id": "f8eb4399",
   "metadata": {},
   "outputs": [],
   "source": [
    "compute_time(A, \"dimsum\")"
   ]
  },
  {
   "cell_type": "code",
   "execution_count": null,
   "id": "41bf4803",
   "metadata": {},
   "outputs": [],
   "source": []
  }
 ],
 "metadata": {
  "kernelspec": {
   "display_name": "Python 3",
   "language": "python",
   "name": "python3"
  },
  "language_info": {
   "codemirror_mode": {
    "name": "ipython",
    "version": 3
   },
   "file_extension": ".py",
   "mimetype": "text/x-python",
   "name": "python",
   "nbconvert_exporter": "python",
   "pygments_lexer": "ipython3",
   "version": "3.6.5"
  }
 },
 "nbformat": 4,
 "nbformat_minor": 5
}
