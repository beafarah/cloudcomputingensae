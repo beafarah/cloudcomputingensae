{
 "cells": [
  {
   "cell_type": "code",
   "execution_count": 13,
   "id": "e70f5199",
   "metadata": {},
   "outputs": [],
   "source": [
    "import numpy as np\n",
    "import random"
   ]
  },
  {
   "cell_type": "markdown",
   "id": "ca3361c5",
   "metadata": {},
   "source": [
    "### Framework:\n",
    "- $A$ sparse matrix of size $n \\times m$ with each row having at most $L$ nonzero entries\n",
    "- We assume that the entries in A have been scaled to [-1,1]\n",
    "\n",
    "#### First tests: find limiting $(n,m)$ such that the computation of $A^TA$ is no longer feasible"
   ]
  },
  {
   "cell_type": "code",
   "execution_count": 14,
   "id": "5d34a2e8",
   "metadata": {},
   "outputs": [],
   "source": [
    "def sparse_generator(m,n,L=1):\n",
    "    \"\"\"\n",
    "    Function that generates sparse matrix with n rows and m columns, each row having at most L nonzero entries\n",
    "    input:\n",
    "    m: number of rows\n",
    "    n: number of columns\n",
    "    L: number of nonzero entries per row\n",
    "    output:\n",
    "    random sparse matrix A\n",
    "    \"\"\"\n",
    "    A = np.zeros((m,n))\n",
    "    for row in range(m): \n",
    "        #nonzero = random.randint(0,L)\n",
    "        #new_value = [2*random.random()-1 for j in range(nonzero)] # random numbers in [-1,1]\n",
    "        #index = random.sample(range(n),nonzero) # indexes of the nonzero values\n",
    "        new_value = [2*random.random()-1 for j in range(L)] # random numbers in [-1,1]\n",
    "        index = random.sample(range(n),L) # indexes of the nonzero values\n",
    "        for (v,i) in zip(new_value, index):\n",
    "            A[row,i] = v \n",
    "    return A"
   ]
  },
  {
   "cell_type": "code",
   "execution_count": 15,
   "id": "3f2d72e9",
   "metadata": {},
   "outputs": [],
   "source": [
    "def naive_mult_np(A): # function that depends on numpy (because of dot product)\n",
    "    \"\"\"\n",
    "    Function that computes sparse matrix multiplication\n",
    "    input: \n",
    "    A: sparse matrix\n",
    "    output:\n",
    "    A^T A: sparse matrix product\n",
    "    \"\"\"\n",
    "    return A.T@A"
   ]
  },
  {
   "cell_type": "code",
   "execution_count": 16,
   "id": "2d9c97d4",
   "metadata": {},
   "outputs": [],
   "source": [
    "def naive_mult(A): # function that doesnt depend on numpy\n",
    "    \"\"\"\n",
    "    Function that computes sparse matrix multiplication\n",
    "    input: \n",
    "    A: sparse matrix\n",
    "    output:\n",
    "    A^T A: sparse matrix product\n",
    "    \"\"\"\n",
    "    (m,n) = A.shape\n",
    "    AProd = sum( [A[i][0]*A[i] for i in range(len(A))] )\n",
    "    for r in range(1,n):\n",
    "        AProd = np.vstack((AProd,sum( [A[i][r]*A[i] for i in range(len(A))] ) ))\n",
    "    return AProd"
   ]
  },
  {
   "cell_type": "code",
   "execution_count": 17,
   "id": "228d1179",
   "metadata": {},
   "outputs": [],
   "source": [
    "A = sparse_generator(10,3,1)"
   ]
  },
  {
   "cell_type": "code",
   "execution_count": 18,
   "id": "0352f958",
   "metadata": {},
   "outputs": [
    {
     "data": {
      "text/plain": [
       "array([[0.55336282, 0.        , 0.        ],\n",
       "       [0.        , 1.22526114, 0.        ],\n",
       "       [0.        , 0.        , 0.65477126]])"
      ]
     },
     "execution_count": 18,
     "metadata": {},
     "output_type": "execute_result"
    }
   ],
   "source": [
    "naive_mult(A)"
   ]
  },
  {
   "cell_type": "code",
   "execution_count": 19,
   "id": "61a4fd28",
   "metadata": {},
   "outputs": [
    {
     "data": {
      "text/plain": [
       "array([[0.55336282, 0.        , 0.        ],\n",
       "       [0.        , 1.22526114, 0.        ],\n",
       "       [0.        , 0.        , 0.65477126]])"
      ]
     },
     "execution_count": 19,
     "metadata": {},
     "output_type": "execute_result"
    }
   ],
   "source": [
    "naive_mult_np(A)"
   ]
  },
  {
   "cell_type": "code",
   "execution_count": 20,
   "id": "73e7a551",
   "metadata": {},
   "outputs": [],
   "source": [
    "m = 10**13\n",
    "n = 10**4"
   ]
  },
  {
   "cell_type": "code",
   "execution_count": 21,
   "id": "916a7788",
   "metadata": {},
   "outputs": [
    {
     "ename": "MemoryError",
     "evalue": "Unable to allocate 74.5 GiB for an array with shape (100, 100000000) and data type float64",
     "output_type": "error",
     "traceback": [
      "\u001b[1;31m---------------------------------------------------------------------------\u001b[0m",
      "\u001b[1;31mMemoryError\u001b[0m                               Traceback (most recent call last)",
      "\u001b[1;32m<ipython-input-21-93b8655bf9ab>\u001b[0m in \u001b[0;36m<module>\u001b[1;34m\u001b[0m\n\u001b[0;32m      1\u001b[0m \u001b[1;31m# n = 10**2: can compute until m = 10**7\u001b[0m\u001b[1;33m\u001b[0m\u001b[1;33m\u001b[0m\u001b[0m\n\u001b[1;32m----> 2\u001b[1;33m \u001b[0mA\u001b[0m \u001b[1;33m=\u001b[0m \u001b[0msparse_generator\u001b[0m\u001b[1;33m(\u001b[0m\u001b[1;36m10\u001b[0m\u001b[1;33m**\u001b[0m\u001b[1;36m2\u001b[0m\u001b[1;33m,\u001b[0m\u001b[1;36m10\u001b[0m\u001b[1;33m**\u001b[0m\u001b[1;36m8\u001b[0m\u001b[1;33m,\u001b[0m\u001b[0mL\u001b[0m\u001b[1;33m=\u001b[0m\u001b[1;36m1\u001b[0m\u001b[1;33m)\u001b[0m\u001b[1;33m\u001b[0m\u001b[0m\n\u001b[0m",
      "\u001b[1;32m<ipython-input-14-cb8d593d2d25>\u001b[0m in \u001b[0;36msparse_generator\u001b[1;34m(m, n, L)\u001b[0m\n\u001b[0;32m      9\u001b[0m     \u001b[0mrandom\u001b[0m \u001b[0msparse\u001b[0m \u001b[0mmatrix\u001b[0m \u001b[0mA\u001b[0m\u001b[1;33m\u001b[0m\u001b[0m\n\u001b[0;32m     10\u001b[0m     \"\"\"\n\u001b[1;32m---> 11\u001b[1;33m     \u001b[0mA\u001b[0m \u001b[1;33m=\u001b[0m \u001b[0mnp\u001b[0m\u001b[1;33m.\u001b[0m\u001b[0mzeros\u001b[0m\u001b[1;33m(\u001b[0m\u001b[1;33m(\u001b[0m\u001b[0mm\u001b[0m\u001b[1;33m,\u001b[0m\u001b[0mn\u001b[0m\u001b[1;33m)\u001b[0m\u001b[1;33m)\u001b[0m\u001b[1;33m\u001b[0m\u001b[0m\n\u001b[0m\u001b[0;32m     12\u001b[0m     \u001b[1;32mfor\u001b[0m \u001b[0mrow\u001b[0m \u001b[1;32min\u001b[0m \u001b[0mrange\u001b[0m\u001b[1;33m(\u001b[0m\u001b[0mm\u001b[0m\u001b[1;33m)\u001b[0m\u001b[1;33m:\u001b[0m\u001b[1;33m\u001b[0m\u001b[0m\n\u001b[0;32m     13\u001b[0m         \u001b[1;31m#nonzero = random.randint(0,L)\u001b[0m\u001b[1;33m\u001b[0m\u001b[1;33m\u001b[0m\u001b[0m\n",
      "\u001b[1;31mMemoryError\u001b[0m: Unable to allocate 74.5 GiB for an array with shape (100, 100000000) and data type float64"
     ]
    }
   ],
   "source": [
    "# n = 10**2: can compute until m = 10**7\n",
    "A = sparse_generator(10**2,10**8,L=1)"
   ]
  },
  {
   "cell_type": "code",
   "execution_count": 22,
   "id": "7f3532f5",
   "metadata": {},
   "outputs": [
    {
     "data": {
      "text/plain": [
       "array([[0.09417947, 0.        , 0.        , ..., 0.        , 0.        ,\n",
       "        0.        ],\n",
       "       [0.        , 0.        , 0.        , ..., 0.        , 0.        ,\n",
       "        0.        ],\n",
       "       [0.        , 0.        , 0.        , ..., 0.        , 0.        ,\n",
       "        0.        ],\n",
       "       ...,\n",
       "       [0.        , 0.        , 0.        , ..., 0.        , 0.        ,\n",
       "        0.        ],\n",
       "       [0.        , 0.        , 0.        , ..., 0.        , 0.        ,\n",
       "        0.        ],\n",
       "       [0.        , 0.        , 0.        , ..., 0.        , 0.        ,\n",
       "        0.00543546]])"
      ]
     },
     "execution_count": 22,
     "metadata": {},
     "output_type": "execute_result"
    }
   ],
   "source": [
    "# n = 10**2: can multiply until m = 10**4\n",
    "A = sparse_generator(10**2,10**4,L=1)\n",
    "\n",
    "naive_mult_np(A)"
   ]
  },
  {
   "cell_type": "code",
   "execution_count": 17,
   "id": "b7bfcbb7",
   "metadata": {},
   "outputs": [
    {
     "ename": "MemoryError",
     "evalue": "Unable to allocate 74.5 GiB for an array with shape (1000, 10000000) and data type float64",
     "output_type": "error",
     "traceback": [
      "\u001b[1;31m---------------------------------------------------------------------------\u001b[0m",
      "\u001b[1;31mMemoryError\u001b[0m                               Traceback (most recent call last)",
      "\u001b[1;32m<ipython-input-17-7964b4edd560>\u001b[0m in \u001b[0;36m<module>\u001b[1;34m\u001b[0m\n\u001b[0;32m      1\u001b[0m \u001b[1;31m# n = 10**3: can compute until m = 10**6\u001b[0m\u001b[1;33m\u001b[0m\u001b[1;33m\u001b[0m\u001b[0m\n\u001b[1;32m----> 2\u001b[1;33m \u001b[0mA\u001b[0m \u001b[1;33m=\u001b[0m \u001b[0msparse_generator\u001b[0m\u001b[1;33m(\u001b[0m\u001b[1;36m10\u001b[0m\u001b[1;33m**\u001b[0m\u001b[1;36m3\u001b[0m\u001b[1;33m,\u001b[0m\u001b[1;36m10\u001b[0m\u001b[1;33m**\u001b[0m\u001b[1;36m7\u001b[0m\u001b[1;33m,\u001b[0m\u001b[0mL\u001b[0m\u001b[1;33m=\u001b[0m\u001b[1;36m1\u001b[0m\u001b[1;33m)\u001b[0m\u001b[1;33m\u001b[0m\u001b[0m\n\u001b[0m",
      "\u001b[1;32m<ipython-input-2-4dd0b19cdeff>\u001b[0m in \u001b[0;36msparse_generator\u001b[1;34m(n, m, L)\u001b[0m\n\u001b[0;32m      9\u001b[0m     \u001b[0mrandom\u001b[0m \u001b[0msparse\u001b[0m \u001b[0mmatrix\u001b[0m \u001b[0mA\u001b[0m\u001b[1;33m\u001b[0m\u001b[0m\n\u001b[0;32m     10\u001b[0m     \"\"\"\n\u001b[1;32m---> 11\u001b[1;33m     \u001b[0mA\u001b[0m \u001b[1;33m=\u001b[0m \u001b[0mnp\u001b[0m\u001b[1;33m.\u001b[0m\u001b[0mzeros\u001b[0m\u001b[1;33m(\u001b[0m\u001b[1;33m(\u001b[0m\u001b[0mn\u001b[0m\u001b[1;33m,\u001b[0m\u001b[0mm\u001b[0m\u001b[1;33m)\u001b[0m\u001b[1;33m)\u001b[0m\u001b[1;33m\u001b[0m\u001b[0m\n\u001b[0m\u001b[0;32m     12\u001b[0m     \u001b[1;32mfor\u001b[0m \u001b[0mrow\u001b[0m \u001b[1;32min\u001b[0m \u001b[0mrange\u001b[0m\u001b[1;33m(\u001b[0m\u001b[0mn\u001b[0m\u001b[1;33m)\u001b[0m\u001b[1;33m:\u001b[0m\u001b[1;33m\u001b[0m\u001b[0m\n\u001b[0;32m     13\u001b[0m         \u001b[0mnew_value\u001b[0m \u001b[1;33m=\u001b[0m \u001b[1;33m[\u001b[0m\u001b[1;36m2\u001b[0m\u001b[1;33m*\u001b[0m\u001b[0mrandom\u001b[0m\u001b[1;33m.\u001b[0m\u001b[0mrandom\u001b[0m\u001b[1;33m(\u001b[0m\u001b[1;33m)\u001b[0m\u001b[1;33m-\u001b[0m\u001b[1;36m1\u001b[0m \u001b[1;32mfor\u001b[0m \u001b[0mj\u001b[0m \u001b[1;32min\u001b[0m \u001b[0mrange\u001b[0m\u001b[1;33m(\u001b[0m\u001b[0mL\u001b[0m\u001b[1;33m)\u001b[0m\u001b[1;33m]\u001b[0m \u001b[1;31m# random numbers in [-1,1]\u001b[0m\u001b[1;33m\u001b[0m\u001b[0m\n",
      "\u001b[1;31mMemoryError\u001b[0m: Unable to allocate 74.5 GiB for an array with shape (1000, 10000000) and data type float64"
     ]
    }
   ],
   "source": [
    "# n = 10**3: can compute until m = 10**6\n",
    "A = sparse_generator(10**3,10**7,L=1)"
   ]
  },
  {
   "cell_type": "code",
   "execution_count": 24,
   "id": "aacf8a16",
   "metadata": {},
   "outputs": [
    {
     "data": {
      "text/plain": [
       "array([[0., 0., 0., ..., 0., 0., 0.],\n",
       "       [0., 0., 0., ..., 0., 0., 0.],\n",
       "       [0., 0., 0., ..., 0., 0., 0.],\n",
       "       ...,\n",
       "       [0., 0., 0., ..., 0., 0., 0.],\n",
       "       [0., 0., 0., ..., 0., 0., 0.],\n",
       "       [0., 0., 0., ..., 0., 0., 0.]])"
      ]
     },
     "execution_count": 24,
     "metadata": {},
     "output_type": "execute_result"
    }
   ],
   "source": [
    "# n = 10**3: can multiply until m = 10**4\n",
    "A = sparse_generator(10**3,10**4,L=1)\n",
    "\n",
    "naive_mult_np(A)"
   ]
  },
  {
   "cell_type": "code",
   "execution_count": 25,
   "id": "38aafad2",
   "metadata": {},
   "outputs": [
    {
     "ename": "MemoryError",
     "evalue": "Unable to allocate 728. TiB for an array with shape (10000000000000, 10) and data type float64",
     "output_type": "error",
     "traceback": [
      "\u001b[1;31m---------------------------------------------------------------------------\u001b[0m",
      "\u001b[1;31mMemoryError\u001b[0m                               Traceback (most recent call last)",
      "\u001b[1;32m<ipython-input-25-93be60ff1934>\u001b[0m in \u001b[0;36m<module>\u001b[1;34m\u001b[0m\n\u001b[0;32m      1\u001b[0m \u001b[1;31m# n = 10**2: can multiply until m = 10**4\u001b[0m\u001b[1;33m\u001b[0m\u001b[1;33m\u001b[0m\u001b[0m\n\u001b[1;32m----> 2\u001b[1;33m \u001b[0mA\u001b[0m \u001b[1;33m=\u001b[0m \u001b[0msparse_generator\u001b[0m\u001b[1;33m(\u001b[0m\u001b[1;36m10\u001b[0m\u001b[1;33m**\u001b[0m\u001b[1;36m13\u001b[0m\u001b[1;33m,\u001b[0m\u001b[1;36m10\u001b[0m\u001b[1;33m,\u001b[0m\u001b[0mL\u001b[0m\u001b[1;33m=\u001b[0m\u001b[1;36m20\u001b[0m\u001b[1;33m)\u001b[0m\u001b[1;33m\u001b[0m\u001b[0m\n\u001b[0m\u001b[0;32m      3\u001b[0m \u001b[1;33m\u001b[0m\u001b[0m\n\u001b[0;32m      4\u001b[0m \u001b[0mnaive_mult_np\u001b[0m\u001b[1;33m(\u001b[0m\u001b[0mA\u001b[0m\u001b[1;33m)\u001b[0m\u001b[1;33m\u001b[0m\u001b[0m\n",
      "\u001b[1;32m<ipython-input-14-cb8d593d2d25>\u001b[0m in \u001b[0;36msparse_generator\u001b[1;34m(m, n, L)\u001b[0m\n\u001b[0;32m      9\u001b[0m     \u001b[0mrandom\u001b[0m \u001b[0msparse\u001b[0m \u001b[0mmatrix\u001b[0m \u001b[0mA\u001b[0m\u001b[1;33m\u001b[0m\u001b[0m\n\u001b[0;32m     10\u001b[0m     \"\"\"\n\u001b[1;32m---> 11\u001b[1;33m     \u001b[0mA\u001b[0m \u001b[1;33m=\u001b[0m \u001b[0mnp\u001b[0m\u001b[1;33m.\u001b[0m\u001b[0mzeros\u001b[0m\u001b[1;33m(\u001b[0m\u001b[1;33m(\u001b[0m\u001b[0mm\u001b[0m\u001b[1;33m,\u001b[0m\u001b[0mn\u001b[0m\u001b[1;33m)\u001b[0m\u001b[1;33m)\u001b[0m\u001b[1;33m\u001b[0m\u001b[0m\n\u001b[0m\u001b[0;32m     12\u001b[0m     \u001b[1;32mfor\u001b[0m \u001b[0mrow\u001b[0m \u001b[1;32min\u001b[0m \u001b[0mrange\u001b[0m\u001b[1;33m(\u001b[0m\u001b[0mm\u001b[0m\u001b[1;33m)\u001b[0m\u001b[1;33m:\u001b[0m\u001b[1;33m\u001b[0m\u001b[0m\n\u001b[0;32m     13\u001b[0m         \u001b[1;31m#nonzero = random.randint(0,L)\u001b[0m\u001b[1;33m\u001b[0m\u001b[1;33m\u001b[0m\u001b[0m\n",
      "\u001b[1;31mMemoryError\u001b[0m: Unable to allocate 728. TiB for an array with shape (10000000000000, 10) and data type float64"
     ]
    }
   ],
   "source": [
    "# n = 10**2: can multiply until m = 10**4\n",
    "A = sparse_generator(10**13,10**4,L=20)\n",
    "\n",
    "naive_mult_np(A)"
   ]
  },
  {
   "cell_type": "code",
   "execution_count": null,
   "id": "7698e5f3",
   "metadata": {},
   "outputs": [],
   "source": []
  }
 ],
 "metadata": {
  "kernelspec": {
   "display_name": "Python 3",
   "language": "python",
   "name": "python3"
  },
  "language_info": {
   "codemirror_mode": {
    "name": "ipython",
    "version": 3
   },
   "file_extension": ".py",
   "mimetype": "text/x-python",
   "name": "python",
   "nbconvert_exporter": "python",
   "pygments_lexer": "ipython3",
   "version": "3.6.5"
  }
 },
 "nbformat": 4,
 "nbformat_minor": 5
}
