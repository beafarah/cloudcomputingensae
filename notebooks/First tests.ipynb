{
 "cells": [
  {
   "cell_type": "code",
   "execution_count": 1,
   "id": "9285212e",
   "metadata": {},
   "outputs": [],
   "source": [
    "import numpy as np\n",
    "import random"
   ]
  },
  {
   "cell_type": "markdown",
   "id": "f9f6f53a",
   "metadata": {},
   "source": [
    "### Framework:\n",
    "- $A$ sparse matrix of size $n \\times m$ with each row having at most $L$ nonzero entries\n",
    "- We assume that the entries in A have been scaled to [-1,1]\n",
    "\n",
    "#### First tests: find limiting $(n,m)$ such that the computation of $A^TA$ is no longer feasible"
   ]
  },
  {
   "cell_type": "code",
   "execution_count": 2,
   "id": "77271a1b",
   "metadata": {},
   "outputs": [],
   "source": [
    "def sparse_generator(n,m,L=1):\n",
    "    \"\"\"\n",
    "    Function that generates sparse matrix with n rows and m columns, each row having at most L nonzero entries\n",
    "    input:\n",
    "    n: number of rows\n",
    "    m: number of columns\n",
    "    L: number of nonzero entries per row\n",
    "    output:\n",
    "    random sparse matrix A\n",
    "    \"\"\"\n",
    "    A = np.zeros((n,m))\n",
    "    for row in range(n): \n",
    "        new_value = [2*random.random()-1 for j in range(L)] # random numbers in [-1,1]\n",
    "        index = random.sample(range(m),L) # indexes of the nonzero values\n",
    "        for (v,i) in zip(new_value, index):\n",
    "            A[row,i] = v \n",
    "    return A"
   ]
  },
  {
   "cell_type": "code",
   "execution_count": 3,
   "id": "b93764ed",
   "metadata": {},
   "outputs": [],
   "source": [
    "def naive_mult_np(A): # function that depends on numpy (because of dot product)\n",
    "    \"\"\"\n",
    "    Function that computes sparse matrix multiplication\n",
    "    input: \n",
    "    A: sparse matrix\n",
    "    output:\n",
    "    A^T A: sparse matrix product\n",
    "    \"\"\"\n",
    "    return A.T@A"
   ]
  },
  {
   "cell_type": "code",
   "execution_count": 4,
   "id": "40b56313",
   "metadata": {},
   "outputs": [],
   "source": [
    "def naive_mult(A): # function that doesnt depend on numpy\n",
    "    \"\"\"\n",
    "    Function that computes sparse matrix multiplication\n",
    "    input: \n",
    "    A: sparse matrix\n",
    "    output:\n",
    "    A^T A: sparse matrix product\n",
    "    \"\"\"\n",
    "    (n,m) = A.shape\n",
    "    AProd = sum( [A[i][0]*A[i] for i in range(len(A))] )\n",
    "    for r in range(1,m):\n",
    "        AProd = np.vstack((AProd,sum( [A[i][r]*A[i] for i in range(len(A))] ) ))\n",
    "    return AProd"
   ]
  },
  {
   "cell_type": "code",
   "execution_count": 5,
   "id": "a68fb9c0",
   "metadata": {},
   "outputs": [],
   "source": [
    "A = sparse_generator(10,3,1)"
   ]
  },
  {
   "cell_type": "code",
   "execution_count": 6,
   "id": "a782673d",
   "metadata": {},
   "outputs": [
    {
     "data": {
      "text/plain": [
       "array([[2.10128915, 0.        , 0.        ],\n",
       "       [0.        , 0.07994209, 0.        ],\n",
       "       [0.        , 0.        , 0.55157068]])"
      ]
     },
     "execution_count": 6,
     "metadata": {},
     "output_type": "execute_result"
    }
   ],
   "source": [
    "naive_mult(A)"
   ]
  },
  {
   "cell_type": "code",
   "execution_count": 7,
   "id": "bc2de501",
   "metadata": {},
   "outputs": [
    {
     "data": {
      "text/plain": [
       "array([[2.10128915, 0.        , 0.        ],\n",
       "       [0.        , 0.07994209, 0.        ],\n",
       "       [0.        , 0.        , 0.55157068]])"
      ]
     },
     "execution_count": 7,
     "metadata": {},
     "output_type": "execute_result"
    }
   ],
   "source": [
    "naive_mult_np(A)"
   ]
  },
  {
   "cell_type": "code",
   "execution_count": 8,
   "id": "c4bd3091",
   "metadata": {},
   "outputs": [],
   "source": [
    "m = 10**13\n",
    "n = 10**4"
   ]
  },
  {
   "cell_type": "code",
   "execution_count": 14,
   "id": "eb14c9ab",
   "metadata": {},
   "outputs": [
    {
     "ename": "MemoryError",
     "evalue": "Unable to allocate 74.5 GiB for an array with shape (100, 100000000) and data type float64",
     "output_type": "error",
     "traceback": [
      "\u001b[1;31m---------------------------------------------------------------------------\u001b[0m",
      "\u001b[1;31mMemoryError\u001b[0m                               Traceback (most recent call last)",
      "\u001b[1;32m<ipython-input-14-f58e66badb80>\u001b[0m in \u001b[0;36m<module>\u001b[1;34m\u001b[0m\n\u001b[1;32m----> 1\u001b[1;33m \u001b[0mA\u001b[0m \u001b[1;33m=\u001b[0m \u001b[0msparse_generator\u001b[0m\u001b[1;33m(\u001b[0m\u001b[1;36m10\u001b[0m\u001b[1;33m**\u001b[0m\u001b[1;36m2\u001b[0m\u001b[1;33m,\u001b[0m\u001b[1;36m10\u001b[0m\u001b[1;33m**\u001b[0m\u001b[1;36m8\u001b[0m\u001b[1;33m,\u001b[0m\u001b[0mL\u001b[0m\u001b[1;33m=\u001b[0m\u001b[1;36m1\u001b[0m\u001b[1;33m)\u001b[0m\u001b[1;33m\u001b[0m\u001b[0m\n\u001b[0m",
      "\u001b[1;32m<ipython-input-2-4dd0b19cdeff>\u001b[0m in \u001b[0;36msparse_generator\u001b[1;34m(n, m, L)\u001b[0m\n\u001b[0;32m      9\u001b[0m     \u001b[0mrandom\u001b[0m \u001b[0msparse\u001b[0m \u001b[0mmatrix\u001b[0m \u001b[0mA\u001b[0m\u001b[1;33m\u001b[0m\u001b[0m\n\u001b[0;32m     10\u001b[0m     \"\"\"\n\u001b[1;32m---> 11\u001b[1;33m     \u001b[0mA\u001b[0m \u001b[1;33m=\u001b[0m \u001b[0mnp\u001b[0m\u001b[1;33m.\u001b[0m\u001b[0mzeros\u001b[0m\u001b[1;33m(\u001b[0m\u001b[1;33m(\u001b[0m\u001b[0mn\u001b[0m\u001b[1;33m,\u001b[0m\u001b[0mm\u001b[0m\u001b[1;33m)\u001b[0m\u001b[1;33m)\u001b[0m\u001b[1;33m\u001b[0m\u001b[0m\n\u001b[0m\u001b[0;32m     12\u001b[0m     \u001b[1;32mfor\u001b[0m \u001b[0mrow\u001b[0m \u001b[1;32min\u001b[0m \u001b[0mrange\u001b[0m\u001b[1;33m(\u001b[0m\u001b[0mn\u001b[0m\u001b[1;33m)\u001b[0m\u001b[1;33m:\u001b[0m\u001b[1;33m\u001b[0m\u001b[0m\n\u001b[0;32m     13\u001b[0m         \u001b[0mnew_value\u001b[0m \u001b[1;33m=\u001b[0m \u001b[1;33m[\u001b[0m\u001b[1;36m2\u001b[0m\u001b[1;33m*\u001b[0m\u001b[0mrandom\u001b[0m\u001b[1;33m.\u001b[0m\u001b[0mrandom\u001b[0m\u001b[1;33m(\u001b[0m\u001b[1;33m)\u001b[0m\u001b[1;33m-\u001b[0m\u001b[1;36m1\u001b[0m \u001b[1;32mfor\u001b[0m \u001b[0mj\u001b[0m \u001b[1;32min\u001b[0m \u001b[0mrange\u001b[0m\u001b[1;33m(\u001b[0m\u001b[0mL\u001b[0m\u001b[1;33m)\u001b[0m\u001b[1;33m]\u001b[0m \u001b[1;31m# random numbers in [-1,1]\u001b[0m\u001b[1;33m\u001b[0m\u001b[0m\n",
      "\u001b[1;31mMemoryError\u001b[0m: Unable to allocate 74.5 GiB for an array with shape (100, 100000000) and data type float64"
     ]
    }
   ],
   "source": [
    "# n = 10**2: can compute until m = 10**7\n",
    "A = sparse_generator(10**2,10**8,L=1)"
   ]
  },
  {
   "cell_type": "code",
   "execution_count": 26,
   "id": "2cb478b2",
   "metadata": {},
   "outputs": [
    {
     "data": {
      "text/plain": [
       "array([[0., 0., 0., ..., 0., 0., 0.],\n",
       "       [0., 0., 0., ..., 0., 0., 0.],\n",
       "       [0., 0., 0., ..., 0., 0., 0.],\n",
       "       ...,\n",
       "       [0., 0., 0., ..., 0., 0., 0.],\n",
       "       [0., 0., 0., ..., 0., 0., 0.],\n",
       "       [0., 0., 0., ..., 0., 0., 0.]])"
      ]
     },
     "execution_count": 26,
     "metadata": {},
     "output_type": "execute_result"
    }
   ],
   "source": [
    "# n = 10**2: can multiply until m = 10**4\n",
    "A = sparse_generator(10**2,10**4,L=1)\n",
    "\n",
    "naive_mult_np(A)"
   ]
  },
  {
   "cell_type": "code",
   "execution_count": 17,
   "id": "88e69940",
   "metadata": {},
   "outputs": [
    {
     "ename": "MemoryError",
     "evalue": "Unable to allocate 74.5 GiB for an array with shape (1000, 10000000) and data type float64",
     "output_type": "error",
     "traceback": [
      "\u001b[1;31m---------------------------------------------------------------------------\u001b[0m",
      "\u001b[1;31mMemoryError\u001b[0m                               Traceback (most recent call last)",
      "\u001b[1;32m<ipython-input-17-7964b4edd560>\u001b[0m in \u001b[0;36m<module>\u001b[1;34m\u001b[0m\n\u001b[0;32m      1\u001b[0m \u001b[1;31m# n = 10**3: can compute until m = 10**6\u001b[0m\u001b[1;33m\u001b[0m\u001b[1;33m\u001b[0m\u001b[0m\n\u001b[1;32m----> 2\u001b[1;33m \u001b[0mA\u001b[0m \u001b[1;33m=\u001b[0m \u001b[0msparse_generator\u001b[0m\u001b[1;33m(\u001b[0m\u001b[1;36m10\u001b[0m\u001b[1;33m**\u001b[0m\u001b[1;36m3\u001b[0m\u001b[1;33m,\u001b[0m\u001b[1;36m10\u001b[0m\u001b[1;33m**\u001b[0m\u001b[1;36m7\u001b[0m\u001b[1;33m,\u001b[0m\u001b[0mL\u001b[0m\u001b[1;33m=\u001b[0m\u001b[1;36m1\u001b[0m\u001b[1;33m)\u001b[0m\u001b[1;33m\u001b[0m\u001b[0m\n\u001b[0m",
      "\u001b[1;32m<ipython-input-2-4dd0b19cdeff>\u001b[0m in \u001b[0;36msparse_generator\u001b[1;34m(n, m, L)\u001b[0m\n\u001b[0;32m      9\u001b[0m     \u001b[0mrandom\u001b[0m \u001b[0msparse\u001b[0m \u001b[0mmatrix\u001b[0m \u001b[0mA\u001b[0m\u001b[1;33m\u001b[0m\u001b[0m\n\u001b[0;32m     10\u001b[0m     \"\"\"\n\u001b[1;32m---> 11\u001b[1;33m     \u001b[0mA\u001b[0m \u001b[1;33m=\u001b[0m \u001b[0mnp\u001b[0m\u001b[1;33m.\u001b[0m\u001b[0mzeros\u001b[0m\u001b[1;33m(\u001b[0m\u001b[1;33m(\u001b[0m\u001b[0mn\u001b[0m\u001b[1;33m,\u001b[0m\u001b[0mm\u001b[0m\u001b[1;33m)\u001b[0m\u001b[1;33m)\u001b[0m\u001b[1;33m\u001b[0m\u001b[0m\n\u001b[0m\u001b[0;32m     12\u001b[0m     \u001b[1;32mfor\u001b[0m \u001b[0mrow\u001b[0m \u001b[1;32min\u001b[0m \u001b[0mrange\u001b[0m\u001b[1;33m(\u001b[0m\u001b[0mn\u001b[0m\u001b[1;33m)\u001b[0m\u001b[1;33m:\u001b[0m\u001b[1;33m\u001b[0m\u001b[0m\n\u001b[0;32m     13\u001b[0m         \u001b[0mnew_value\u001b[0m \u001b[1;33m=\u001b[0m \u001b[1;33m[\u001b[0m\u001b[1;36m2\u001b[0m\u001b[1;33m*\u001b[0m\u001b[0mrandom\u001b[0m\u001b[1;33m.\u001b[0m\u001b[0mrandom\u001b[0m\u001b[1;33m(\u001b[0m\u001b[1;33m)\u001b[0m\u001b[1;33m-\u001b[0m\u001b[1;36m1\u001b[0m \u001b[1;32mfor\u001b[0m \u001b[0mj\u001b[0m \u001b[1;32min\u001b[0m \u001b[0mrange\u001b[0m\u001b[1;33m(\u001b[0m\u001b[0mL\u001b[0m\u001b[1;33m)\u001b[0m\u001b[1;33m]\u001b[0m \u001b[1;31m# random numbers in [-1,1]\u001b[0m\u001b[1;33m\u001b[0m\u001b[0m\n",
      "\u001b[1;31mMemoryError\u001b[0m: Unable to allocate 74.5 GiB for an array with shape (1000, 10000000) and data type float64"
     ]
    }
   ],
   "source": [
    "# n = 10**3: can compute until m = 10**6\n",
    "A = sparse_generator(10**3,10**7,L=1)"
   ]
  },
  {
   "cell_type": "code",
   "execution_count": 24,
   "id": "7b75fbfd",
   "metadata": {},
   "outputs": [
    {
     "data": {
      "text/plain": [
       "array([[0., 0., 0., ..., 0., 0., 0.],\n",
       "       [0., 0., 0., ..., 0., 0., 0.],\n",
       "       [0., 0., 0., ..., 0., 0., 0.],\n",
       "       ...,\n",
       "       [0., 0., 0., ..., 0., 0., 0.],\n",
       "       [0., 0., 0., ..., 0., 0., 0.],\n",
       "       [0., 0., 0., ..., 0., 0., 0.]])"
      ]
     },
     "execution_count": 24,
     "metadata": {},
     "output_type": "execute_result"
    }
   ],
   "source": [
    "# n = 10**3: can multiply until m = 10**4\n",
    "A = sparse_generator(10**3,10**4,L=1)\n",
    "\n",
    "naive_mult_np(A)"
   ]
  },
  {
   "cell_type": "code",
   "execution_count": null,
   "id": "d7b25bc5",
   "metadata": {},
   "outputs": [],
   "source": []
  }
 ],
 "metadata": {
  "kernelspec": {
   "display_name": "Python 3",
   "language": "python",
   "name": "python3"
  },
  "language_info": {
   "codemirror_mode": {
    "name": "ipython",
    "version": 3
   },
   "file_extension": ".py",
   "mimetype": "text/x-python",
   "name": "python",
   "nbconvert_exporter": "python",
   "pygments_lexer": "ipython3",
   "version": "3.6.5"
  }
 },
 "nbformat": 4,
 "nbformat_minor": 5
}
