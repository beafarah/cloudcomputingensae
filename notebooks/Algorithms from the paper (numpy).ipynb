{
 "cells": [
  {
   "cell_type": "markdown",
   "id": "cdf51633",
   "metadata": {},
   "source": [
    "### Methods proposed in the article \n",
    "\n",
    "In this notebook we will implement in ``Python`` using ``Numpy`` the algorithms proposed in the paper \"Dimension Independent Matrix Square using\n",
    "MapReduce (DIMSUM)\"\n",
    "\n",
    "We remember that $A$ is a sparse matrix of size $m \\times n$ with $L$ nonzero elements per row, and our goal is to compute $A^T A$"
   ]
  },
  {
   "cell_type": "code",
   "execution_count": 1,
   "id": "968bc251",
   "metadata": {},
   "outputs": [],
   "source": [
    "import numpy as np\n",
    "import os\n",
    "import sys\n",
    "project_dir = os.getcwd().split('notebooks')[0]\n",
    "sys.path.append(project_dir)"
   ]
  },
  {
   "cell_type": "code",
   "execution_count": 2,
   "id": "92c55bbf",
   "metadata": {},
   "outputs": [],
   "source": [
    "from src.helper import *"
   ]
  },
  {
   "cell_type": "markdown",
   "id": "2278c49d",
   "metadata": {},
   "source": [
    "#### 1) Algorithm 1: NaiveMapper"
   ]
  },
  {
   "cell_type": "code",
   "execution_count": 3,
   "id": "c3a633b6",
   "metadata": {},
   "outputs": [],
   "source": [
    "def NaiveMapper(ri):\n",
    "    \"\"\"\n",
    "    Mapper function to naive matrix multiplication\n",
    "    input: \n",
    "    ri: arrays of a row i of the sparse matrix A\n",
    "    output:\n",
    "    AProd: matrix with dot products between pairs of the row ri\n",
    "    \"\"\"\n",
    "    AProd =  [ri[i]*ri for i in range(len(ri))]  # we walk through the rows\n",
    "\n",
    "    return np.matrix(AProd)"
   ]
  },
  {
   "cell_type": "markdown",
   "id": "5667af66",
   "metadata": {},
   "source": [
    "#### 2) Algorithm 2: NaiveReducer"
   ]
  },
  {
   "cell_type": "code",
   "execution_count": 4,
   "id": "55603189",
   "metadata": {},
   "outputs": [],
   "source": [
    "def NaiveReducer(col_maps):\n",
    "    \"\"\"\n",
    "    Reducer function to naive matrix multiplication\n",
    "    input:\n",
    "    col_maps: list of mappings\n",
    "    output:\n",
    "    result_mat = matrix with the sum of mappings\n",
    "    \"\"\"\n",
    "    m = len(col_maps)\n",
    "    (nrow, ncol) = col_maps[0].shape\n",
    "    result_mat = np.zeros((nrow, ncol) )\n",
    "    for lm in col_maps:\n",
    "        result_mat+=np.matrix(lm)\n",
    "    return result_mat"
   ]
  },
  {
   "cell_type": "code",
   "execution_count": 5,
   "id": "7f977139",
   "metadata": {},
   "outputs": [],
   "source": [
    "def NaiveProd(A):\n",
    "    \"\"\"\n",
    "    Function that computes A^T A in a naive way\n",
    "    input:\n",
    "    A: sparse matrix\n",
    "    output: matrix product A^T A\n",
    "    \"\"\"\n",
    "    (m,n) = A.shape\n",
    "    rows = [A[i] for i in range(m) ]\n",
    "    col_maps = [NaiveMapper(rows[j]) for j in range(m)]\n",
    "    return NaiveReducer(col_maps)"
   ]
  },
  {
   "cell_type": "code",
   "execution_count": 6,
   "id": "04a01d06",
   "metadata": {},
   "outputs": [],
   "source": [
    "A = sparse_generator(4,3)"
   ]
  },
  {
   "cell_type": "code",
   "execution_count": 7,
   "id": "96b9e97d",
   "metadata": {},
   "outputs": [
    {
     "data": {
      "text/plain": [
       "array([[0.07873407, 0.        , 0.        ],\n",
       "       [0.        , 0.62951415, 0.        ],\n",
       "       [0.        , 0.        , 0.59050071]])"
      ]
     },
     "execution_count": 7,
     "metadata": {},
     "output_type": "execute_result"
    }
   ],
   "source": [
    "NaiveProd(A)"
   ]
  },
  {
   "cell_type": "markdown",
   "id": "6b2acd81",
   "metadata": {},
   "source": [
    "Verifying our result with the ``Numpy`` function that computes matrix product using ``A.T@A``:"
   ]
  },
  {
   "cell_type": "code",
   "execution_count": 8,
   "id": "f5545b4c",
   "metadata": {},
   "outputs": [
    {
     "data": {
      "text/plain": [
       "array([[0.07873407, 0.        , 0.        ],\n",
       "       [0.        , 0.62951415, 0.        ],\n",
       "       [0.        , 0.        , 0.59050071]])"
      ]
     },
     "execution_count": 8,
     "metadata": {},
     "output_type": "execute_result"
    }
   ],
   "source": [
    "A.T@A"
   ]
  },
  {
   "cell_type": "markdown",
   "id": "ef23ca64",
   "metadata": {},
   "source": [
    "#### 3) Algorithm 3: DIMSUMMapper"
   ]
  },
  {
   "cell_type": "code",
   "execution_count": 9,
   "id": "6862fa6d",
   "metadata": {},
   "outputs": [],
   "source": [
    "def norm(A):\n",
    "    \"\"\"\n",
    "    Function that computes the norm 2 of each column of a matrix\n",
    "    input:\n",
    "    A: matrix\n",
    "    output:\n",
    "    norm: array of norms of each column\n",
    "    \"\"\"\n",
    "    norm = (np.square(A).sum(axis=0))**(1/2) \n",
    "    return norm"
   ]
  },
  {
   "cell_type": "code",
   "execution_count": 10,
   "id": "a6afddb4",
   "metadata": {},
   "outputs": [],
   "source": [
    "def DIMSUMMApper(A, ind, gamma=0.5, nb_it = 1000):\n",
    "    \"\"\"\n",
    "    Efficient Mapper\n",
    "    input:\n",
    "    A: sparse matrix\n",
    "    ind: index of the row that we wish to compute (ri is the i-th row of the matrix, so ind = i)\n",
    "    gamma: hyperparameter\n",
    "    nb_it: number of iterations \n",
    "    output:\n",
    "    mean of all the matrices computed\n",
    "    \"\"\"\n",
    "    results = []\n",
    "    it = 0\n",
    "    while it<nb_it:\n",
    "        it+=1\n",
    "        (m,n) = A.shape \n",
    "        ri = A[ind]\n",
    "        Anorm = norm(A) # norm of columns of A\n",
    "        AProd = np.zeros((n,n))\n",
    "        for ci in range(n):\n",
    "            for cj in range(n):\n",
    "                random_probs = random.random()  # generate random probabilities\n",
    "                prob =  min(1,gamma/(Anorm[ci] * Anorm[cj]))\n",
    "                if prob>random_probs:\n",
    "                    AProd[ci,cj] += ri[ci]*ri[cj]\n",
    "                    \n",
    "        results.append(AProd)\n",
    "    \n",
    "    results = np.array(results)\n",
    "    return results.sum(axis=0)/(len(results))"
   ]
  },
  {
   "cell_type": "code",
   "execution_count": 11,
   "id": "eb72bc39",
   "metadata": {},
   "outputs": [],
   "source": [
    "A = sparse_generator(4,3, 1)"
   ]
  },
  {
   "cell_type": "markdown",
   "id": "8055748d",
   "metadata": {},
   "source": [
    "Comparing the Naive and the efficient versions for the first row of matrix A:"
   ]
  },
  {
   "cell_type": "code",
   "execution_count": 12,
   "id": "2cc35437",
   "metadata": {},
   "outputs": [
    {
     "name": "stderr",
     "output_type": "stream",
     "text": [
      "C:\\Users\\biafa\\Anaconda3\\lib\\site-packages\\ipykernel_launcher.py:23: RuntimeWarning: divide by zero encountered in double_scalars\n"
     ]
    },
    {
     "data": {
      "text/plain": [
       "array([[0.        , 0.        , 0.        ],\n",
       "       [0.        , 0.        , 0.        ],\n",
       "       [0.        , 0.        , 0.06774211]])"
      ]
     },
     "execution_count": 12,
     "metadata": {},
     "output_type": "execute_result"
    }
   ],
   "source": [
    "DIMSUMMApper(A, 0)"
   ]
  },
  {
   "cell_type": "code",
   "execution_count": 13,
   "id": "0f4a5f9f",
   "metadata": {},
   "outputs": [
    {
     "data": {
      "text/plain": [
       "matrix([[ 0.        ,  0.        , -0.        ],\n",
       "        [ 0.        ,  0.        , -0.        ],\n",
       "        [-0.        , -0.        ,  0.13602833]])"
      ]
     },
     "execution_count": 13,
     "metadata": {},
     "output_type": "execute_result"
    }
   ],
   "source": [
    "NaiveMapper(A[0])"
   ]
  },
  {
   "cell_type": "markdown",
   "id": "94dbe2ae",
   "metadata": {},
   "source": [
    "#### 4) Algorithm 4: DIMSUMReducer"
   ]
  },
  {
   "cell_type": "code",
   "execution_count": 14,
   "id": "c7379601",
   "metadata": {},
   "outputs": [],
   "source": [
    "def DIMSUMReducer(A, col_maps, gamma = 0.5):\n",
    "    \"\"\"\n",
    "    Efficient Reducer\n",
    "    input:\n",
    "    A: sparse matrix\n",
    "    col_maps: list of matrices from the mapper function (for each row of A)\n",
    "    gamma: hyperparameter\n",
    "    output:\n",
    "    result_mat: matrix of size (n,n)\n",
    "    \"\"\"\n",
    "    (nrow, ncol) = col_maps[0].shape\n",
    "    result_mat = np.zeros((nrow, ncol) )\n",
    "    Anorm = norm(A) \n",
    "    result_mat = sum(col_maps)\n",
    "    #for lm in col_maps:\n",
    "        #result_mat+=np.matrix(lm)\n",
    "    for i in range(nrow):\n",
    "        for j in range(ncol):\n",
    "            if gamma> Anorm[i]*Anorm[j]:\n",
    "                result_mat[i][j]=1/(Anorm[i]*Anorm[j]) * result_mat[i][j]\n",
    "            else:\n",
    "                result_mat[i][j]= (1/gamma) * result_mat[i][j]\n",
    "    return result_mat"
   ]
  },
  {
   "cell_type": "code",
   "execution_count": 15,
   "id": "9521e5f8",
   "metadata": {},
   "outputs": [],
   "source": [
    "def DIMSUMProd(A, gamma = 0.5, nb_it = 1500):\n",
    "    \"\"\"\n",
    "    Function that efficiently computes A^T A for sparse matrix\n",
    "    input:\n",
    "    A: sparse matrix\n",
    "    gamma: hyperparameter\n",
    "    nb_it: number of iterations for the mapper function\n",
    "    output:\n",
    "    prod: matrix equal to A^T A\n",
    "    \"\"\"\n",
    "    (m,n) = A.shape\n",
    "    col_maps = [DIMSUMMApper(A,j, gamma, nb_it) for j in range(m)]\n",
    "    prod = DIMSUMReducer(A, col_maps)\n",
    "    prod[np.isnan(prod)] = 0\n",
    "    return prod"
   ]
  },
  {
   "cell_type": "markdown",
   "id": "6103efe5",
   "metadata": {},
   "source": [
    "Comparing the results for the 3 methods (numpy function, naive and efficient version):"
   ]
  },
  {
   "cell_type": "code",
   "execution_count": 16,
   "id": "dd23c10b",
   "metadata": {},
   "outputs": [
    {
     "data": {
      "text/plain": [
       "array([[0.        , 0.        , 0.        ],\n",
       "       [0.        , 0.97702171, 0.        ],\n",
       "       [0.        , 0.        , 1.0000915 ]])"
      ]
     },
     "execution_count": 16,
     "metadata": {},
     "output_type": "execute_result"
    }
   ],
   "source": [
    "A.T@A"
   ]
  },
  {
   "cell_type": "code",
   "execution_count": 17,
   "id": "e8553ada",
   "metadata": {},
   "outputs": [
    {
     "name": "stderr",
     "output_type": "stream",
     "text": [
      "C:\\Users\\biafa\\Anaconda3\\lib\\site-packages\\ipykernel_launcher.py:23: RuntimeWarning: divide by zero encountered in double_scalars\n",
      "C:\\Users\\biafa\\Anaconda3\\lib\\site-packages\\ipykernel_launcher.py:20: RuntimeWarning: divide by zero encountered in double_scalars\n",
      "C:\\Users\\biafa\\Anaconda3\\lib\\site-packages\\ipykernel_launcher.py:20: RuntimeWarning: invalid value encountered in double_scalars\n"
     ]
    },
    {
     "data": {
      "text/plain": [
       "array([[0.        , 0.        , 0.        ],\n",
       "       [0.        , 0.98483788, 0.        ],\n",
       "       [0.        , 0.        , 0.94938266]])"
      ]
     },
     "execution_count": 17,
     "metadata": {},
     "output_type": "execute_result"
    }
   ],
   "source": [
    "DIMSUMProd(A)"
   ]
  },
  {
   "cell_type": "code",
   "execution_count": 18,
   "id": "b1c41491",
   "metadata": {},
   "outputs": [
    {
     "data": {
      "text/plain": [
       "array([[0.        , 0.        , 0.        ],\n",
       "       [0.        , 0.97702171, 0.        ],\n",
       "       [0.        , 0.        , 1.0000915 ]])"
      ]
     },
     "execution_count": 18,
     "metadata": {},
     "output_type": "execute_result"
    }
   ],
   "source": [
    "NaiveProd(A)"
   ]
  },
  {
   "cell_type": "code",
   "execution_count": null,
   "id": "f57285de",
   "metadata": {},
   "outputs": [],
   "source": []
  }
 ],
 "metadata": {
  "kernelspec": {
   "display_name": "Python 3",
   "language": "python",
   "name": "python3"
  },
  "language_info": {
   "codemirror_mode": {
    "name": "ipython",
    "version": 3
   },
   "file_extension": ".py",
   "mimetype": "text/x-python",
   "name": "python",
   "nbconvert_exporter": "python",
   "pygments_lexer": "ipython3",
   "version": "3.6.5"
  }
 },
 "nbformat": 4,
 "nbformat_minor": 5
}
