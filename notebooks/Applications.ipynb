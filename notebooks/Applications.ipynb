{
 "cells": [
  {
   "cell_type": "markdown",
   "id": "a922024f-d1d3-40ea-97a8-7bce3f5dc97b",
   "metadata": {},
   "source": [
    "# Applications de DIMSUM"
   ]
  },
  {
   "cell_type": "code",
   "execution_count": null,
   "id": "7429b2f6-407f-493d-ae1b-d392e3c0be9c",
   "metadata": {
    "tags": []
   },
   "outputs": [],
   "source": [
    "import numpy as np\n",
    "import scipy as sc\n",
    "import scipy.sparse as sp\n",
    "import random\n",
    "from collections import defaultdict\n",
    "from pyspark.sql import SparkSession\n",
    "from pyspark.mllib.linalg.distributed import MatrixEntry, CoordinateMatrix\n",
    "from numpy import linalg as LA\n",
    "from collections import Counter"
   ]
  },
  {
   "cell_type": "markdown",
   "id": "db29d59e-6189-4c28-bbb7-c41f0d94636f",
   "metadata": {},
   "source": [
    "## Régression linéaire en \"haute dimension\" (nombre de lignes >>> nombre de colonnes)"
   ]
  },
  {
   "cell_type": "markdown",
   "id": "d90944b7-e49d-450b-81b9-5cc549bc348f",
   "metadata": {},
   "source": [
    "### Génération des données "
   ]
  },
  {
   "cell_type": "markdown",
   "id": "f40fab11-5034-46a0-af9b-4213b659b398",
   "metadata": {},
   "source": [
    "Nous allons générer des données de poids en fonction de la taille^2 avec un IMC=25 avec des données bruités\n",
    "\n",
    "$ poids(kg)= (IMC=25)*taille^2(m)+ \\sum^n_{i=1} Bruit_i$"
   ]
  },
  {
   "cell_type": "code",
   "execution_count": null,
   "id": "e4e84ca5-21e2-4e3e-aaca-05375bf2bac9",
   "metadata": {
    "tags": []
   },
   "outputs": [],
   "source": [
    "def generate_data(number_of_observation:int,beta:int=25):\n",
    "    poids=np.random.uniform(10,100, number_of_observation)\n",
    "    taille_carre=poids/25\n",
    "    return poids,taille_carre"
   ]
  },
  {
   "cell_type": "code",
   "execution_count": null,
   "id": "0b1dfdbb-681b-49b8-b642-1725d2f4f91b",
   "metadata": {
    "tags": []
   },
   "outputs": [],
   "source": [
    "generate_data(int(1e6))"
   ]
  }
 ],
 "metadata": {
  "kernelspec": {
   "display_name": "Python 3 (ipykernel)",
   "language": "python",
   "name": "python3"
  },
  "language_info": {
   "codemirror_mode": {
    "name": "ipython",
    "version": 3
   },
   "file_extension": ".py",
   "mimetype": "text/x-python",
   "name": "python",
   "nbconvert_exporter": "python",
   "pygments_lexer": "ipython3",
   "version": "3.10.9"
  }
 },
 "nbformat": 4,
 "nbformat_minor": 5
}
