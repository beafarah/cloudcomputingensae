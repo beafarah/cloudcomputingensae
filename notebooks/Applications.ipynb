{
 "cells": [
  {
   "cell_type": "markdown",
   "id": "a922024f-d1d3-40ea-97a8-7bce3f5dc97b",
   "metadata": {},
   "source": [
    "# Applications de DIMSUM"
   ]
  },
  {
   "cell_type": "code",
   "execution_count": null,
   "id": "e9fa7924-6118-40e8-af42-b79f97855cf1",
   "metadata": {
    "tags": []
   },
   "outputs": [],
   "source": [
    "! pip install -e ../"
   ]
  },
  {
   "cell_type": "markdown",
   "id": "f0377682-0149-4c99-a247-dfbc5c3d9c6c",
   "metadata": {},
   "source": [
    "* Restart Kernel to import lib (may needed)"
   ]
  },
  {
   "cell_type": "code",
   "execution_count": null,
   "id": "7429b2f6-407f-493d-ae1b-d392e3c0be9c",
   "metadata": {
    "tags": []
   },
   "outputs": [],
   "source": [
    "import numpy as np\n",
    "import scipy as sc\n",
    "import scipy.sparse as sp\n",
    "import random\n",
    "from collections import defaultdict\n",
    "from pyspark.sql import SparkSession\n",
    "from pyspark.mllib.linalg.distributed import MatrixEntry, CoordinateMatrix\n",
    "from numpy import linalg as LA\n",
    "from collections import Counter"
   ]
  },
  {
   "cell_type": "code",
   "execution_count": null,
   "id": "60ad894b-f701-46d2-88a2-78fe317040df",
   "metadata": {
    "tags": []
   },
   "outputs": [],
   "source": [
    "from dimsum.utils.dimsum import *"
   ]
  },
  {
   "cell_type": "code",
   "execution_count": null,
   "id": "3b82ab4f-4ba1-4153-8537-a9b0964dbb59",
   "metadata": {
    "tags": []
   },
   "outputs": [],
   "source": [
    "spark = (\n",
    "    SparkSession.builder.appName(\"Cloud computing ENSAE project\")\n",
    "    .master(\"local[5]\")\n",
    "    .getOrCreate()\n",
    ")\n",
    "sc = spark.sparkContext"
   ]
  },
  {
   "cell_type": "markdown",
   "id": "db29d59e-6189-4c28-bbb7-c41f0d94636f",
   "metadata": {},
   "source": [
    "## Régression linéaire en \"haute dimension\" (nombre de lignes >>> nombre de colonnes)"
   ]
  },
  {
   "cell_type": "markdown",
   "id": "d90944b7-e49d-450b-81b9-5cc549bc348f",
   "metadata": {},
   "source": [
    "### Génération des données "
   ]
  },
  {
   "cell_type": "markdown",
   "id": "f40fab11-5034-46a0-af9b-4213b659b398",
   "metadata": {},
   "source": [
    "Nous allons générer des données de poids en fonction de la taille^2 avec un IMC=25 avec des données bruités\n",
    "\n",
    "$ poids(kg)= (IMC=25)*taille^2(m)+ \\sum^n_{i=1} Bruit_i$"
   ]
  },
  {
   "cell_type": "code",
   "execution_count": null,
   "id": "e4e84ca5-21e2-4e3e-aaca-05375bf2bac9",
   "metadata": {
    "tags": []
   },
   "outputs": [],
   "source": [
    "def generate_data(\n",
    "    number_of_observation: int,\n",
    "    number_of_perturbations: int,\n",
    "    number_of_col: int,\n",
    "    beta: int = 25,\n",
    "):\n",
    "    poids = np.random.uniform(10, 100, number_of_observation)\n",
    "    taille_carre = poids / 25\n",
    "    listMatrixEntry = [\n",
    "        MatrixEntry(i, 0, taille_carre[i]) for i in range(len(taille_carre))\n",
    "    ]\n",
    "    listMatrixEntryPerturbation = [\n",
    "        MatrixEntry(i, j, random_value)\n",
    "        for i, j, random_value in zip(\n",
    "            np.random.uniform(0, number_of_observation, number_of_perturbations),\n",
    "            np.random.uniform(1, number_of_col, number_of_perturbations),\n",
    "            np.random.rand(number_of_perturbations),\n",
    "        )\n",
    "    ]\n",
    "    return poids, listMatrixEntry+listMatrixEntryPerturbation"
   ]
  },
  {
   "cell_type": "code",
   "execution_count": null,
   "id": "a990054a-1add-4531-bbb9-531b402d3f19",
   "metadata": {
    "tags": []
   },
   "outputs": [],
   "source": [
    "M=int(1e6)\n",
    "N=int(1e3)\n",
    "L=int(1e6)"
   ]
  },
  {
   "cell_type": "code",
   "execution_count": null,
   "id": "0b1dfdbb-681b-49b8-b642-1725d2f4f91b",
   "metadata": {
    "tags": []
   },
   "outputs": [],
   "source": [
    "Y,X=generate_data(M, L, N)"
   ]
  },
  {
   "cell_type": "code",
   "execution_count": null,
   "id": "8713ec56-688e-40c2-95c4-57f5b0cd7895",
   "metadata": {
    "tags": []
   },
   "outputs": [],
   "source": [
    "entries = sc.parallelize(X)\n",
    "mat = CoordinateMatrix(entries, M, N)\n",
    "# Entries may have duplicate key (0,1, 10) and (0,1, 30), we want to sum for demo purpose (0,1,10+30)\n",
    "mat = mat.entries.map(lambda e: ((e.i,e.j),e.value)).reduceByKey(lambda x,y:x+y).map(lambda e: (e[0][0],e[0][1],e[1])).collect()\n",
    "mat = CoordinateMatrix(sc.parallelize(list(map(lambda e: MatrixEntry(*e),mat))), M, N)"
   ]
  },
  {
   "cell_type": "markdown",
   "id": "ab4290f5-9726-44a0-a3fc-135c42890395",
   "metadata": {},
   "source": [
    "## Cosine similarity"
   ]
  },
  {
   "cell_type": "code",
   "execution_count": null,
   "id": "cc7291bd-a83f-4479-900c-4397c0efe7d5",
   "metadata": {
    "tags": []
   },
   "outputs": [],
   "source": [
    "sorted(mat.toRowMatrix().columnSimilarities().entries.collect(),key=lambda me: me.value, reverse=True)[:10]"
   ]
  },
  {
   "cell_type": "code",
   "execution_count": null,
   "id": "a0319841-c275-48b2-b57c-7cab5c8b74fd",
   "metadata": {
    "tags": []
   },
   "outputs": [],
   "source": [
    "row_magnitude=mat.entries.map(lambda e: (e.i,e.value)).reduceByKey(lambda x,y:max(x,y))\n",
    "norm_mat=mat.entries.map(lambda e: (e.i,(e.j,e.value))).join(row_magnitude).map(lambda e: (e[0],e[1][0][0],e[1][0][1]/e[1][1])).collect()\n",
    "norm_mat = CoordinateMatrix(sc.parallelize(list(map(lambda e: MatrixEntry(*e),norm_mat))), M, N)"
   ]
  },
  {
   "cell_type": "code",
   "execution_count": null,
   "id": "9c704c79-93ec-46c9-a273-0585e4cba62a",
   "metadata": {
    "tags": []
   },
   "outputs": [],
   "source": [
    "dotproduct = coordinateMatrixMultiply(norm_mat.transpose(), norm_mat)\n",
    "list_dotproduct=sorted(dotproduct.collect())"
   ]
  },
  {
   "cell_type": "code",
   "execution_count": null,
   "id": "f72924e9-bc95-45c8-b2df-8d8590e8cc9d",
   "metadata": {
    "tags": []
   },
   "outputs": [],
   "source": [
    "#sp.linalg.inv(list_repr_to_sp_csc(list_dotproduct,M,N))"
   ]
  }
 ],
 "metadata": {
  "kernelspec": {
   "display_name": "Python 3 (ipykernel)",
   "language": "python",
   "name": "python3"
  },
  "language_info": {
   "codemirror_mode": {
    "name": "ipython",
    "version": 3
   },
   "file_extension": ".py",
   "mimetype": "text/x-python",
   "name": "python",
   "nbconvert_exporter": "python",
   "pygments_lexer": "ipython3",
   "version": "3.10.9"
  }
 },
 "nbformat": 4,
 "nbformat_minor": 5
}
