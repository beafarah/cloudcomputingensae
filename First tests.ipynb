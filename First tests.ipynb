{
 "cells": [
  {
   "cell_type": "code",
   "execution_count": 3,
   "id": "6d0bf27b",
   "metadata": {},
   "outputs": [],
   "source": [
    "import numpy as np\n",
    "import random"
   ]
  },
  {
   "cell_type": "code",
   "execution_count": 14,
   "id": "300680f2",
   "metadata": {},
   "outputs": [
    {
     "data": {
      "text/plain": [
       "4"
      ]
     },
     "execution_count": 14,
     "metadata": {},
     "output_type": "execute_result"
    }
   ],
   "source": [
    "random.randrange(0,n, 1)"
   ]
  },
  {
   "cell_type": "markdown",
   "id": "89b994b9",
   "metadata": {},
   "source": [
    "### Framework:\n",
    "- $A$ sparse matrix of size $n \\times m$ with each row having at most $L$ nonzero entries\n",
    "- We assume that the entries in A have been scaled to [-1,1]\n",
    "\n",
    "#### First tests: find limiting $(n,m)$ such that the computation of $A^TA$ is no longer feasible"
   ]
  },
  {
   "cell_type": "code",
   "execution_count": 40,
   "id": "fddb3a47",
   "metadata": {},
   "outputs": [],
   "source": [
    "def sparse_generator(n,m,L=1):\n",
    "    \"\"\"\n",
    "    Function that generates sparse matrix with n rows and m columns, each row having at most L nonzero entries\n",
    "    input:\n",
    "    n: number of rows\n",
    "    m: number of columns\n",
    "    L: number of nonzero entries per row\n",
    "    output:\n",
    "    random sparse matrix A\n",
    "    \"\"\"\n",
    "    A = np.zeros((n,m))\n",
    "    for row in range(n): \n",
    "        new_value = [2*random.random()-1 for j in range(L)] # random numbers in [-1,1]\n",
    "        index = random.sample(range(m),L) # indexes of the nonzero values\n",
    "        for (v,i) in zip(new_value, index):\n",
    "            A[row,i] = v \n",
    "    return A"
   ]
  },
  {
   "cell_type": "code",
   "execution_count": 63,
   "id": "bb6cc611",
   "metadata": {},
   "outputs": [],
   "source": [
    "def naive_mult_np(A): # function that depends on numpy (because of dot product)\n",
    "    \"\"\"\n",
    "    Function that computes sparse matrix multiplication\n",
    "    input: \n",
    "    A: sparse matrix\n",
    "    output:\n",
    "    A^T A: sparse matrix product\n",
    "    \"\"\"\n",
    "    return A.T@A"
   ]
  },
  {
   "cell_type": "code",
   "execution_count": 79,
   "id": "2da8da5b",
   "metadata": {},
   "outputs": [],
   "source": [
    "def naive_mult(A): # function that doesnt depend on numpy\n",
    "    \"\"\"\n",
    "    Function that computes sparse matrix multiplication\n",
    "    input: \n",
    "    A: sparse matrix\n",
    "    output:\n",
    "    A^T A: sparse matrix product\n",
    "    \"\"\"\n",
    "    (n,m) = A.shape\n",
    "    AProd = sum( [A[i][0]*A[i] for i in range(len(A))] )\n",
    "    for r in range(1,m):\n",
    "        AProd = np.vstack((AProd,sum( [A[i][r]*A[i] for i in range(len(A))] ) ))\n",
    "    return AProd"
   ]
  },
  {
   "cell_type": "code",
   "execution_count": 64,
   "id": "1252edf3",
   "metadata": {},
   "outputs": [],
   "source": [
    "A = sparse_generator(10,3,1)"
   ]
  },
  {
   "cell_type": "code",
   "execution_count": 80,
   "id": "f0dbb229",
   "metadata": {},
   "outputs": [
    {
     "data": {
      "text/plain": [
       "array([[1.49613507, 0.        , 0.        ],\n",
       "       [0.        , 0.7517043 , 0.        ],\n",
       "       [0.        , 0.        , 1.62625822]])"
      ]
     },
     "execution_count": 80,
     "metadata": {},
     "output_type": "execute_result"
    }
   ],
   "source": [
    "naive_mult(A)"
   ]
  },
  {
   "cell_type": "code",
   "execution_count": 82,
   "id": "dcae71b0",
   "metadata": {},
   "outputs": [
    {
     "data": {
      "text/plain": [
       "array([[1.49613507, 0.        , 0.        ],\n",
       "       [0.        , 0.7517043 , 0.        ],\n",
       "       [0.        , 0.        , 1.62625822]])"
      ]
     },
     "execution_count": 82,
     "metadata": {},
     "output_type": "execute_result"
    }
   ],
   "source": [
    "naive_mult_np(A)"
   ]
  },
  {
   "cell_type": "code",
   "execution_count": null,
   "id": "11680c8a",
   "metadata": {},
   "outputs": [],
   "source": []
  }
 ],
 "metadata": {
  "kernelspec": {
   "display_name": "Python 3",
   "language": "python",
   "name": "python3"
  },
  "language_info": {
   "codemirror_mode": {
    "name": "ipython",
    "version": 3
   },
   "file_extension": ".py",
   "mimetype": "text/x-python",
   "name": "python",
   "nbconvert_exporter": "python",
   "pygments_lexer": "ipython3",
   "version": "3.6.5"
  }
 },
 "nbformat": 4,
 "nbformat_minor": 5
}
