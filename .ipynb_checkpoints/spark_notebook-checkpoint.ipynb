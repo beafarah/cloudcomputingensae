{
 "cells": [
  {
   "cell_type": "code",
   "execution_count": null,
   "id": "be02f059",
   "metadata": {
    "tags": []
   },
   "outputs": [],
   "source": [
    "!pip install -r ./requirements.txt"
   ]
  },
  {
   "cell_type": "code",
   "execution_count": null,
   "id": "0a680b0f",
   "metadata": {
    "tags": []
   },
   "outputs": [],
   "source": [
    "import numpy as np\n",
    "import scipy as sc\n",
    "import scipy.sparse as sp\n",
    "import random\n",
    "from collections import defaultdict\n",
    "from pyspark.sql import SparkSession\n",
    "from pyspark.mllib.linalg.distributed import MatrixEntry , CoordinateMatrix\n",
    "\n",
    "spark = (SparkSession \n",
    "         .builder\n",
    "         .appName(\"Cloud computing ENSAE project\")\n",
    "         .master(\"local[5]\")\n",
    "         .getOrCreate()\n",
    "        )\n",
    "sc = spark.sparkContext"
   ]
  },
  {
   "cell_type": "code",
   "execution_count": null,
   "id": "f9635ef8",
   "metadata": {
    "tags": []
   },
   "outputs": [],
   "source": [
    "def generate_sparse_matrix_dict_repr(m,n,num_nonzero):\n",
    "    dict_repr=dict()\n",
    "    \n",
    "    i,j = np.random.choice(m, num_nonzero, replace=True) , np.random.choice(n, num_nonzero, replace=True)\n",
    "    for x,y in zip(i,j):\n",
    "        dict_repr[(x,y)]=1\n",
    "    return dict_repr"
   ]
  },
  {
   "cell_type": "code",
   "execution_count": null,
   "id": "8a4b70bb",
   "metadata": {
    "tags": []
   },
   "outputs": [],
   "source": [
    "def dot_product_with_dict_repr(dict_repr,m,n):\n",
    "    multiplied_dict_repr=dict()\n",
    "    for i in range(n):\n",
    "        dict_col_i={x:v for (x,y),v in dict_repr.items() if y==i}\n",
    "        dict_col_i=defaultdict(int,dict_col_i)\n",
    "        if dict_col_i:\n",
    "            for j in range(m):\n",
    "                result=0\n",
    "                dict_col_j={x:v for (x,y),v in dict_repr.items() if y==j and x in dict_col_i.keys()}\n",
    "                dict_col_j=defaultdict(int,dict_col_j)\n",
    "                if dict_col_j:\n",
    "                    for x,v in dict_col_i.items():\n",
    "                        result+= v*dict_col_j[x]\n",
    "                    if result!=0:\n",
    "                        multiplied_dict_repr[(i,j)]=result\n",
    "    return multiplied_dict_repr"
   ]
  },
  {
   "cell_type": "code",
   "execution_count": null,
   "id": "2f74d785",
   "metadata": {
    "tags": []
   },
   "outputs": [],
   "source": [
    "def dict_repr_to_sp_csc(dict_rep,m,n):\n",
    "    row = np.array([])\n",
    "    col = np.array([])\n",
    "    data = np.array([])\n",
    "\n",
    "    for (x,y),v in dict_rep.items():\n",
    "        row=np.append(row,x)\n",
    "        col=np.append(col,y)\n",
    "        data=np.append(data,v)\n",
    "    return sp.csc_matrix((data, (row, col)), shape=(m, n))"
   ]
  },
  {
   "cell_type": "code",
   "execution_count": null,
   "id": "188d4588",
   "metadata": {
    "tags": []
   },
   "outputs": [],
   "source": [
    "M=int(1e18)\n",
    "N=int(1e4)\n",
    "L=int(1e4)"
   ]
  },
  {
   "cell_type": "code",
   "execution_count": null,
   "id": "1602824d",
   "metadata": {
    "tags": []
   },
   "outputs": [],
   "source": [
    "#M=int(300)\n",
    "#N=int(20)\n",
    "#L=int(50)"
   ]
  },
  {
   "cell_type": "code",
   "execution_count": null,
   "id": "430d3f09",
   "metadata": {
    "tags": []
   },
   "outputs": [],
   "source": [
    "a=generate_sparse_matrix_dict_repr(M,N,L)"
   ]
  },
  {
   "cell_type": "code",
   "execution_count": null,
   "id": "332c31ec",
   "metadata": {
    "tags": []
   },
   "outputs": [],
   "source": [
    "#sparse_matrix=dict_repr_to_sp_csc(a,M,N)"
   ]
  },
  {
   "cell_type": "code",
   "execution_count": null,
   "id": "a53fc3e7",
   "metadata": {
    "tags": []
   },
   "outputs": [],
   "source": [
    "#sparse_matrix.T@sparse_matrix.toarray()"
   ]
  },
  {
   "cell_type": "code",
   "execution_count": null,
   "id": "b95f219d",
   "metadata": {
    "tags": []
   },
   "outputs": [],
   "source": [
    "# non computable\n",
    "#dict_repr_to_sp_csc(dot_product_with_dict_repr(a,M,N),N,N).toarray()"
   ]
  },
  {
   "cell_type": "code",
   "execution_count": null,
   "id": "b8846cf1",
   "metadata": {
    "tags": []
   },
   "outputs": [],
   "source": [
    "listMatrixEntry=[MatrixEntry(x,y,v) for (x,y),v in a.items()]"
   ]
  },
  {
   "cell_type": "code",
   "execution_count": null,
   "id": "43823391",
   "metadata": {
    "tags": []
   },
   "outputs": [],
   "source": [
    "entries = sc.parallelize(listMatrixEntry)"
   ]
  },
  {
   "cell_type": "code",
   "execution_count": null,
   "id": "97d839c2",
   "metadata": {
    "tags": []
   },
   "outputs": [],
   "source": [
    "mat = CoordinateMatrix(entries, M, N)"
   ]
  },
  {
   "cell_type": "code",
   "execution_count": null,
   "id": "575f0bae",
   "metadata": {
    "tags": []
   },
   "outputs": [],
   "source": [
    "sparsity_index = 1- (mat.entries.count()/(mat.numRows()*mat.numCols()))\n",
    "sparsity_index"
   ]
  },
  {
   "cell_type": "code",
   "execution_count": null,
   "id": "6c7aa86c",
   "metadata": {
    "tags": []
   },
   "outputs": [],
   "source": [
    "#https://stackoverflow.com/questions/45881580/pyspark-rdd-sparse-matrix-multiplication-from-scala-to-python\n",
    "def coordinateMatrixMultiply(leftmatrix, rightmatrix):\n",
    "    left  =  leftmatrix.entries.map(lambda e: (e.j, (e.i, e.value)))\n",
    "    right = rightmatrix.entries.map(lambda e: (e.i, (e.j, e.value)))\n",
    "    productEntries = left \\\n",
    "        .join(right) \\\n",
    "        .map(lambda e: ((e[1][0][0], e[1][1][0]), (e[1][0][1]*e[1][1][1]))) \\\n",
    "        .reduceByKey(lambda x,y: x+y) \\\n",
    "        .map(lambda e: (*e[0], e[1]))\n",
    "    return productEntries"
   ]
  },
  {
   "cell_type": "code",
   "execution_count": null,
   "id": "70f83f1c",
   "metadata": {
    "tags": []
   },
   "outputs": [],
   "source": [
    "dotproduct = coordinateMatrixMultiply(mat.transpose(),mat)"
   ]
  },
  {
   "cell_type": "code",
   "execution_count": null,
   "id": "a55ebdeb",
   "metadata": {
    "tags": []
   },
   "outputs": [],
   "source": [
    "dotproduct.collect()"
   ]
  },
  {
   "cell_type": "code",
   "execution_count": null,
   "id": "e95bc69e",
   "metadata": {
    "tags": []
   },
   "outputs": [],
   "source": [
    "spark.stop()"
   ]
  }
 ],
 "metadata": {
  "kernelspec": {
   "display_name": "Python 3",
   "language": "python",
   "name": "python3"
  },
  "language_info": {
   "codemirror_mode": {
    "name": "ipython",
    "version": 3
   },
   "file_extension": ".py",
   "mimetype": "text/x-python",
   "name": "python",
   "nbconvert_exporter": "python",
   "pygments_lexer": "ipython3",
   "version": "3.6.5"
  }
 },
 "nbformat": 4,
 "nbformat_minor": 5
}
