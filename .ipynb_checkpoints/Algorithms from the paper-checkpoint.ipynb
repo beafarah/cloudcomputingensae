{
 "cells": [
  {
   "cell_type": "markdown",
   "id": "2b80f599",
   "metadata": {},
   "source": [
    "### Methods proposed in the article "
   ]
  },
  {
   "cell_type": "code",
   "execution_count": 1,
   "id": "b56e2291",
   "metadata": {},
   "outputs": [],
   "source": [
    "import numpy as np\n",
    "import os\n",
    "import sys\n",
    "project_dir = os.getcwd().split('notebooks')[0]\n",
    "sys.path.append(project_dir)"
   ]
  },
  {
   "cell_type": "code",
   "execution_count": 2,
   "id": "7387ed0d",
   "metadata": {},
   "outputs": [],
   "source": [
    "from src.helper import *"
   ]
  },
  {
   "cell_type": "markdown",
   "id": "cd2647b6",
   "metadata": {},
   "source": [
    "#### 1) Algorithm 1: NaiveMapper"
   ]
  },
  {
   "cell_type": "code",
   "execution_count": 17,
   "id": "38436f2c",
   "metadata": {},
   "outputs": [],
   "source": [
    "def NaiveMapper(A):\n",
    "    \"\"\"\n",
    "    Function that computes sparse matrix multiplication\n",
    "    input: \n",
    "    A: sparse matrix\n",
    "    output:\n",
    "    AProd: dot products between columns of A\n",
    "    \"\"\"\n",
    "    (n,m) = A.shape\n",
    "    AProd = sum( [A[i][0]*A[i] for i in range(len(A))] ) # we walk through the rows\n",
    "    for r in range(1,m): # then emit the columns\n",
    "        AProd = np.vstack((AProd,sum( [A[i][r]*A[i] for i in range(len(A))] ) ))\n",
    "    return AProd\n",
    "    "
   ]
  },
  {
   "cell_type": "markdown",
   "id": "0e28063a",
   "metadata": {},
   "source": [
    "#### 2) Algorithm 2: NaiveReducer"
   ]
  },
  {
   "cell_type": "code",
   "execution_count": 22,
   "id": "42e5cd52",
   "metadata": {},
   "outputs": [],
   "source": [
    "def NaiveReducer(C):\n",
    "    \"\"\"\n",
    "    Function that computes the sum of lists of arrays\n",
    "    input:\n",
    "    C: list of arrays\n",
    "    output:\n",
    "    sum(C): sum of list of arrays\n",
    "    \"\"\"\n",
    "    return sum(C)"
   ]
  },
  {
   "cell_type": "code",
   "execution_count": 23,
   "id": "8107fdbe",
   "metadata": {},
   "outputs": [
    {
     "data": {
      "text/plain": [
       "array([0.50155941, 0.21055472, 0.        , 0.11044557])"
      ]
     },
     "execution_count": 23,
     "metadata": {},
     "output_type": "execute_result"
    }
   ],
   "source": [
    "# Example\n",
    "A = sparse_generator(3,4)\n",
    "NaiveMapper(A)\n",
    "\n",
    "#A^T A:\n",
    "NaiveReducer(NaiveMapper(A))"
   ]
  },
  {
   "cell_type": "markdown",
   "id": "d03abda2",
   "metadata": {},
   "source": [
    "#### 3) Algorithm 3: DIMSUMMapper"
   ]
  },
  {
   "cell_type": "code",
   "execution_count": 25,
   "id": "6324392d",
   "metadata": {},
   "outputs": [
    {
     "data": {
      "text/plain": [
       "array([[ 0.        , -0.45886242,  0.        ,  0.        ],\n",
       "       [ 0.        ,  0.        ,  0.        , -0.33233352],\n",
       "       [ 0.70820859,  0.        ,  0.        ,  0.        ]])"
      ]
     },
     "execution_count": 25,
     "metadata": {},
     "output_type": "execute_result"
    }
   ],
   "source": [
    "A"
   ]
  },
  {
   "cell_type": "code",
   "execution_count": null,
   "id": "4953b101",
   "metadata": {},
   "outputs": [],
   "source": [
    "def DIMSUMMApper(A, gamma):\n",
    "    (n,m) = A.shape\n",
    "    for i in range(n):"
   ]
  }
 ],
 "metadata": {
  "kernelspec": {
   "display_name": "Python 3",
   "language": "python",
   "name": "python3"
  },
  "language_info": {
   "codemirror_mode": {
    "name": "ipython",
    "version": 3
   },
   "file_extension": ".py",
   "mimetype": "text/x-python",
   "name": "python",
   "nbconvert_exporter": "python",
   "pygments_lexer": "ipython3",
   "version": "3.6.5"
  }
 },
 "nbformat": 4,
 "nbformat_minor": 5
}
